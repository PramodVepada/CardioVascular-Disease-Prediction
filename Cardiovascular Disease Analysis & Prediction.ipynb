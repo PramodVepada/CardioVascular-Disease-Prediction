{
 "cells": [
  {
   "cell_type": "code",
   "execution_count": 96,
   "metadata": {},
   "outputs": [
    {
     "data": {
      "text/html": [
       "        <script type=\"text/javascript\">\n",
       "        window.PlotlyConfig = {MathJaxConfig: 'local'};\n",
       "        if (window.MathJax) {MathJax.Hub.Config({SVG: {font: \"STIX-Web\"}});}\n",
       "        if (typeof require !== 'undefined') {\n",
       "        require.undef(\"plotly\");\n",
       "        requirejs.config({\n",
       "            paths: {\n",
       "                'plotly': ['https://cdn.plot.ly/plotly-latest.min']\n",
       "            }\n",
       "        });\n",
       "        require(['plotly'], function(Plotly) {\n",
       "            window._Plotly = Plotly;\n",
       "        });\n",
       "        }\n",
       "        </script>\n",
       "        "
      ]
     },
     "metadata": {},
     "output_type": "display_data"
    },
    {
     "data": {
      "text/html": [
       "        <script type=\"text/javascript\">\n",
       "        window.PlotlyConfig = {MathJaxConfig: 'local'};\n",
       "        if (window.MathJax) {MathJax.Hub.Config({SVG: {font: \"STIX-Web\"}});}\n",
       "        if (typeof require !== 'undefined') {\n",
       "        require.undef(\"plotly\");\n",
       "        requirejs.config({\n",
       "            paths: {\n",
       "                'plotly': ['https://cdn.plot.ly/plotly-latest.min']\n",
       "            }\n",
       "        });\n",
       "        require(['plotly'], function(Plotly) {\n",
       "            window._Plotly = Plotly;\n",
       "        });\n",
       "        }\n",
       "        </script>\n",
       "        "
      ]
     },
     "metadata": {},
     "output_type": "display_data"
    }
   ],
   "source": [
    "import numpy as np\n",
    "from pandas import *\n",
    "from matplotlib.pyplot import *\n",
    "from seaborn import *\n",
    "import cufflinks as cf\n",
    "from plotly.offline import *\n",
    "init_notebook_mode(connected = True)\n",
    "cf.go_offline()\n",
    "%matplotlib inline"
   ]
  },
  {
   "cell_type": "code",
   "execution_count": 6,
   "metadata": {},
   "outputs": [],
   "source": [
    "df = read_csv('heart_disease.csv',names = ['Age','Sex','cp','trestbps','chol','fbs','restecg','thalach','exang','oldpeak','slope','ca','thal','Num'])"
   ]
  },
  {
   "cell_type": "code",
   "execution_count": 7,
   "metadata": {},
   "outputs": [
    {
     "data": {
      "text/html": [
       "<div>\n",
       "<style scoped>\n",
       "    .dataframe tbody tr th:only-of-type {\n",
       "        vertical-align: middle;\n",
       "    }\n",
       "\n",
       "    .dataframe tbody tr th {\n",
       "        vertical-align: top;\n",
       "    }\n",
       "\n",
       "    .dataframe thead th {\n",
       "        text-align: right;\n",
       "    }\n",
       "</style>\n",
       "<table border=\"1\" class=\"dataframe\">\n",
       "  <thead>\n",
       "    <tr style=\"text-align: right;\">\n",
       "      <th></th>\n",
       "      <th>Age</th>\n",
       "      <th>Sex</th>\n",
       "      <th>cp</th>\n",
       "      <th>trestbps</th>\n",
       "      <th>chol</th>\n",
       "      <th>fbs</th>\n",
       "      <th>restecg</th>\n",
       "      <th>thalach</th>\n",
       "      <th>exang</th>\n",
       "      <th>oldpeak</th>\n",
       "      <th>slope</th>\n",
       "      <th>ca</th>\n",
       "      <th>thal</th>\n",
       "      <th>Num</th>\n",
       "    </tr>\n",
       "  </thead>\n",
       "  <tbody>\n",
       "    <tr>\n",
       "      <th>0</th>\n",
       "      <td>63</td>\n",
       "      <td>1</td>\n",
       "      <td>1</td>\n",
       "      <td>145</td>\n",
       "      <td>233</td>\n",
       "      <td>1</td>\n",
       "      <td>2</td>\n",
       "      <td>150</td>\n",
       "      <td>0</td>\n",
       "      <td>2.3</td>\n",
       "      <td>3</td>\n",
       "      <td>0</td>\n",
       "      <td>6</td>\n",
       "      <td>0</td>\n",
       "    </tr>\n",
       "    <tr>\n",
       "      <th>1</th>\n",
       "      <td>67</td>\n",
       "      <td>1</td>\n",
       "      <td>4</td>\n",
       "      <td>160</td>\n",
       "      <td>286</td>\n",
       "      <td>0</td>\n",
       "      <td>2</td>\n",
       "      <td>108</td>\n",
       "      <td>1</td>\n",
       "      <td>1.5</td>\n",
       "      <td>2</td>\n",
       "      <td>3</td>\n",
       "      <td>3</td>\n",
       "      <td>2</td>\n",
       "    </tr>\n",
       "    <tr>\n",
       "      <th>2</th>\n",
       "      <td>67</td>\n",
       "      <td>1</td>\n",
       "      <td>4</td>\n",
       "      <td>120</td>\n",
       "      <td>229</td>\n",
       "      <td>0</td>\n",
       "      <td>2</td>\n",
       "      <td>129</td>\n",
       "      <td>1</td>\n",
       "      <td>2.6</td>\n",
       "      <td>2</td>\n",
       "      <td>2</td>\n",
       "      <td>7</td>\n",
       "      <td>1</td>\n",
       "    </tr>\n",
       "    <tr>\n",
       "      <th>3</th>\n",
       "      <td>37</td>\n",
       "      <td>1</td>\n",
       "      <td>3</td>\n",
       "      <td>130</td>\n",
       "      <td>250</td>\n",
       "      <td>0</td>\n",
       "      <td>0</td>\n",
       "      <td>187</td>\n",
       "      <td>0</td>\n",
       "      <td>3.5</td>\n",
       "      <td>3</td>\n",
       "      <td>0</td>\n",
       "      <td>3</td>\n",
       "      <td>0</td>\n",
       "    </tr>\n",
       "    <tr>\n",
       "      <th>4</th>\n",
       "      <td>41</td>\n",
       "      <td>0</td>\n",
       "      <td>2</td>\n",
       "      <td>130</td>\n",
       "      <td>204</td>\n",
       "      <td>0</td>\n",
       "      <td>2</td>\n",
       "      <td>172</td>\n",
       "      <td>0</td>\n",
       "      <td>1.4</td>\n",
       "      <td>1</td>\n",
       "      <td>0</td>\n",
       "      <td>3</td>\n",
       "      <td>0</td>\n",
       "    </tr>\n",
       "    <tr>\n",
       "      <th>...</th>\n",
       "      <td>...</td>\n",
       "      <td>...</td>\n",
       "      <td>...</td>\n",
       "      <td>...</td>\n",
       "      <td>...</td>\n",
       "      <td>...</td>\n",
       "      <td>...</td>\n",
       "      <td>...</td>\n",
       "      <td>...</td>\n",
       "      <td>...</td>\n",
       "      <td>...</td>\n",
       "      <td>...</td>\n",
       "      <td>...</td>\n",
       "      <td>...</td>\n",
       "    </tr>\n",
       "    <tr>\n",
       "      <th>298</th>\n",
       "      <td>45</td>\n",
       "      <td>1</td>\n",
       "      <td>1</td>\n",
       "      <td>110</td>\n",
       "      <td>264</td>\n",
       "      <td>0</td>\n",
       "      <td>0</td>\n",
       "      <td>132</td>\n",
       "      <td>0</td>\n",
       "      <td>1.2</td>\n",
       "      <td>2</td>\n",
       "      <td>0</td>\n",
       "      <td>7</td>\n",
       "      <td>1</td>\n",
       "    </tr>\n",
       "    <tr>\n",
       "      <th>299</th>\n",
       "      <td>68</td>\n",
       "      <td>1</td>\n",
       "      <td>4</td>\n",
       "      <td>144</td>\n",
       "      <td>193</td>\n",
       "      <td>1</td>\n",
       "      <td>0</td>\n",
       "      <td>141</td>\n",
       "      <td>0</td>\n",
       "      <td>3.4</td>\n",
       "      <td>2</td>\n",
       "      <td>2</td>\n",
       "      <td>7</td>\n",
       "      <td>2</td>\n",
       "    </tr>\n",
       "    <tr>\n",
       "      <th>300</th>\n",
       "      <td>57</td>\n",
       "      <td>1</td>\n",
       "      <td>4</td>\n",
       "      <td>130</td>\n",
       "      <td>131</td>\n",
       "      <td>0</td>\n",
       "      <td>0</td>\n",
       "      <td>115</td>\n",
       "      <td>1</td>\n",
       "      <td>1.2</td>\n",
       "      <td>2</td>\n",
       "      <td>1</td>\n",
       "      <td>7</td>\n",
       "      <td>3</td>\n",
       "    </tr>\n",
       "    <tr>\n",
       "      <th>301</th>\n",
       "      <td>57</td>\n",
       "      <td>0</td>\n",
       "      <td>2</td>\n",
       "      <td>130</td>\n",
       "      <td>236</td>\n",
       "      <td>0</td>\n",
       "      <td>2</td>\n",
       "      <td>174</td>\n",
       "      <td>0</td>\n",
       "      <td>0.0</td>\n",
       "      <td>2</td>\n",
       "      <td>1</td>\n",
       "      <td>3</td>\n",
       "      <td>1</td>\n",
       "    </tr>\n",
       "    <tr>\n",
       "      <th>302</th>\n",
       "      <td>38</td>\n",
       "      <td>1</td>\n",
       "      <td>3</td>\n",
       "      <td>138</td>\n",
       "      <td>175</td>\n",
       "      <td>0</td>\n",
       "      <td>0</td>\n",
       "      <td>173</td>\n",
       "      <td>0</td>\n",
       "      <td>0.0</td>\n",
       "      <td>1</td>\n",
       "      <td>?</td>\n",
       "      <td>3</td>\n",
       "      <td>0</td>\n",
       "    </tr>\n",
       "  </tbody>\n",
       "</table>\n",
       "<p>303 rows × 14 columns</p>\n",
       "</div>"
      ],
      "text/plain": [
       "     Age  Sex  cp  trestbps  chol  fbs  restecg  thalach  exang  oldpeak  \\\n",
       "0     63    1   1       145   233    1        2      150      0      2.3   \n",
       "1     67    1   4       160   286    0        2      108      1      1.5   \n",
       "2     67    1   4       120   229    0        2      129      1      2.6   \n",
       "3     37    1   3       130   250    0        0      187      0      3.5   \n",
       "4     41    0   2       130   204    0        2      172      0      1.4   \n",
       "..   ...  ...  ..       ...   ...  ...      ...      ...    ...      ...   \n",
       "298   45    1   1       110   264    0        0      132      0      1.2   \n",
       "299   68    1   4       144   193    1        0      141      0      3.4   \n",
       "300   57    1   4       130   131    0        0      115      1      1.2   \n",
       "301   57    0   2       130   236    0        2      174      0      0.0   \n",
       "302   38    1   3       138   175    0        0      173      0      0.0   \n",
       "\n",
       "     slope ca thal  Num  \n",
       "0        3  0    6    0  \n",
       "1        2  3    3    2  \n",
       "2        2  2    7    1  \n",
       "3        3  0    3    0  \n",
       "4        1  0    3    0  \n",
       "..     ... ..  ...  ...  \n",
       "298      2  0    7    1  \n",
       "299      2  2    7    2  \n",
       "300      2  1    7    3  \n",
       "301      2  1    3    1  \n",
       "302      1  ?    3    0  \n",
       "\n",
       "[303 rows x 14 columns]"
      ]
     },
     "execution_count": 7,
     "metadata": {},
     "output_type": "execute_result"
    }
   ],
   "source": [
    "df"
   ]
  },
  {
   "cell_type": "code",
   "execution_count": 17,
   "metadata": {},
   "outputs": [
    {
     "data": {
      "text/plain": [
       "Age         0\n",
       "Sex         0\n",
       "cp          0\n",
       "trestbps    0\n",
       "chol        0\n",
       "fbs         0\n",
       "restecg     0\n",
       "thalach     0\n",
       "exang       0\n",
       "oldpeak     0\n",
       "slope       0\n",
       "ca          0\n",
       "thal        0\n",
       "Num         0\n",
       "dtype: int64"
      ]
     },
     "execution_count": 17,
     "metadata": {},
     "output_type": "execute_result"
    }
   ],
   "source": [
    "df.isnull().sum()"
   ]
  },
  {
   "cell_type": "code",
   "execution_count": 8,
   "metadata": {},
   "outputs": [],
   "source": [
    "x = df.iloc[:,:].values"
   ]
  },
  {
   "cell_type": "code",
   "execution_count": 27,
   "metadata": {},
   "outputs": [
    {
     "data": {
      "text/plain": [
       "array([[63, 1, 1, ..., '0', '6', 0],\n",
       "       [67, 1, 4, ..., '3', '3', 2],\n",
       "       [67, 1, 4, ..., '2', '7', 1],\n",
       "       ...,\n",
       "       [57, 1, 4, ..., '1', '7', 3],\n",
       "       [57, 0, 2, ..., '1', '3', 1],\n",
       "       [38, 1, 3, ..., '0', '3', 0]], dtype=object)"
      ]
     },
     "execution_count": 27,
     "metadata": {},
     "output_type": "execute_result"
    }
   ],
   "source": [
    "x"
   ]
  },
  {
   "cell_type": "code",
   "execution_count": 19,
   "metadata": {},
   "outputs": [],
   "source": [
    "from sklearn.impute import SimpleImputer"
   ]
  },
  {
   "cell_type": "code",
   "execution_count": 24,
   "metadata": {},
   "outputs": [],
   "source": [
    "sk = SimpleImputer(missing_values = '?',strategy = 'most_frequent')\n",
    "x = sk.fit_transform(x)"
   ]
  },
  {
   "cell_type": "code",
   "execution_count": 25,
   "metadata": {},
   "outputs": [],
   "source": [
    "from sklearn.cluster import KMeans"
   ]
  },
  {
   "cell_type": "code",
   "execution_count": 29,
   "metadata": {},
   "outputs": [
    {
     "name": "stdout",
     "output_type": "stream",
     "text": [
      "[1088984.4514851486, 605081.327138232, 473105.87253100704, 392574.28374934057, 333238.1618759036, 294155.2657602468, 269664.3474906087, 245581.98730322247, 227177.30338437587, 207739.88811080653]\n"
     ]
    }
   ],
   "source": [
    "wcss = []\n",
    "for i in range(1,11):\n",
    "    kmeans = KMeans(n_clusters = i,init = 'k-means++',random_state = 42)\n",
    "    kmeans.fit(x)\n",
    "    wcss.append(kmeans.inertia_)\n",
    "print(wcss)"
   ]
  },
  {
   "cell_type": "code",
   "execution_count": 30,
   "metadata": {},
   "outputs": [
    {
     "data": {
      "text/plain": [
       "[1088984.4514851486,\n",
       " 605081.327138232,\n",
       " 473105.87253100704,\n",
       " 392574.28374934057,\n",
       " 333238.1618759036,\n",
       " 294155.2657602468,\n",
       " 269664.3474906087,\n",
       " 245581.98730322247,\n",
       " 227177.30338437587,\n",
       " 207739.88811080653]"
      ]
     },
     "execution_count": 30,
     "metadata": {},
     "output_type": "execute_result"
    }
   ],
   "source": [
    "wcss"
   ]
  },
  {
   "cell_type": "code",
   "execution_count": 33,
   "metadata": {},
   "outputs": [
    {
     "data": {
      "text/plain": [
       "[<matplotlib.lines.Line2D at 0x28f9386c3c8>]"
      ]
     },
     "execution_count": 33,
     "metadata": {},
     "output_type": "execute_result"
    },
    {
     "data": {
      "image/png": "[encoded data removed]",
      "text/plain": [
       "<Figure size 432x288 with 1 Axes>"
      ]
     },
     "metadata": {
      "needs_background": "light"
     },
     "output_type": "display_data"
    }
   ],
   "source": [
    "plot(range(1,11),wcss,color = 'blue',marker = 'o',markersize = 10)"
   ]
  },
  {
   "cell_type": "code",
   "execution_count": 34,
   "metadata": {},
   "outputs": [],
   "source": [
    "m = KMeans(n_clusters = 2,init = 'k-means++',random_state = 42)\n",
    "t = m.fit_predict(x)"
   ]
  },
  {
   "cell_type": "code",
   "execution_count": 35,
   "metadata": {},
   "outputs": [
    {
     "data": {
      "text/plain": [
       "array([0, 1, 0, 0, 0, 0, 1, 1, 0, 0, 0, 1, 0, 1, 0, 0, 0, 0, 1, 1, 0, 1,\n",
       "       1, 0, 0, 0, 1, 0, 0, 0, 0, 0, 1, 0, 0, 0, 0, 1, 1, 0, 0, 0, 1, 0,\n",
       "       1, 0, 0, 0, 1, 0, 0, 0, 1, 0, 0, 1, 0, 0, 1, 0, 1, 0, 0, 1, 0, 1,\n",
       "       0, 0, 1, 0, 1, 0, 1, 0, 0, 1, 1, 1, 0, 1, 0, 1, 1, 1, 1, 0, 0, 0,\n",
       "       0, 0, 1, 0, 0, 0, 0, 0, 0, 1, 0, 0, 0, 0, 1, 1, 0, 1, 0, 0, 1, 0,\n",
       "       1, 0, 0, 1, 1, 0, 0, 0, 1, 0, 0, 1, 0, 0, 1, 0, 1, 0, 0, 0, 0, 0,\n",
       "       0, 1, 0, 0, 0, 1, 0, 0, 0, 1, 0, 1, 0, 0, 1, 0, 1, 1, 1, 1, 1, 1,\n",
       "       0, 1, 1, 1, 1, 1, 0, 1, 0, 0, 0, 0, 0, 1, 1, 0, 1, 0, 0, 1, 0, 1,\n",
       "       0, 0, 1, 0, 1, 1, 0, 1, 1, 0, 0, 0, 1, 0, 0, 1, 0, 1, 0, 1, 0, 0,\n",
       "       0, 1, 0, 1, 0, 1, 0, 1, 1, 0, 1, 0, 0, 0, 0, 0, 0, 0, 0, 0, 1, 1,\n",
       "       1, 1, 0, 1, 1, 0, 0, 1, 0, 0, 0, 1, 0, 1, 0, 1, 1, 0, 1, 1, 0, 1,\n",
       "       1, 0, 0, 0, 0, 1, 0, 0, 0, 0, 1, 1, 1, 0, 0, 0, 0, 1, 0, 1, 0, 0,\n",
       "       0, 1, 0, 0, 0, 0, 0, 0, 1, 0, 0, 0, 1, 0, 0, 0, 1, 0, 0, 0, 0, 1,\n",
       "       0, 0, 0, 0, 0, 1, 0, 0, 0, 0, 0, 0, 1, 0, 0, 0, 0])"
      ]
     },
     "execution_count": 35,
     "metadata": {},
     "output_type": "execute_result"
    }
   ],
   "source": [
    "t"
   ]
  },
  {
   "cell_type": "code",
   "execution_count": 36,
   "metadata": {},
   "outputs": [],
   "source": [
    "df['Class'] = t "
   ]
  },
  {
   "cell_type": "code",
   "execution_count": 37,
   "metadata": {},
   "outputs": [
    {
     "data": {
      "text/html": [
       "<div>\n",
       "<style scoped>\n",
       "    .dataframe tbody tr th:only-of-type {\n",
       "        vertical-align: middle;\n",
       "    }\n",
       "\n",
       "    .dataframe tbody tr th {\n",
       "        vertical-align: top;\n",
       "    }\n",
       "\n",
       "    .dataframe thead th {\n",
       "        text-align: right;\n",
       "    }\n",
       "</style>\n",
       "<table border=\"1\" class=\"dataframe\">\n",
       "  <thead>\n",
       "    <tr style=\"text-align: right;\">\n",
       "      <th></th>\n",
       "      <th>Age</th>\n",
       "      <th>Sex</th>\n",
       "      <th>cp</th>\n",
       "      <th>trestbps</th>\n",
       "      <th>chol</th>\n",
       "      <th>fbs</th>\n",
       "      <th>restecg</th>\n",
       "      <th>thalach</th>\n",
       "      <th>exang</th>\n",
       "      <th>oldpeak</th>\n",
       "      <th>slope</th>\n",
       "      <th>ca</th>\n",
       "      <th>thal</th>\n",
       "      <th>Num</th>\n",
       "      <th>Class</th>\n",
       "    </tr>\n",
       "  </thead>\n",
       "  <tbody>\n",
       "    <tr>\n",
       "      <th>0</th>\n",
       "      <td>63</td>\n",
       "      <td>1</td>\n",
       "      <td>1</td>\n",
       "      <td>145</td>\n",
       "      <td>233</td>\n",
       "      <td>1</td>\n",
       "      <td>2</td>\n",
       "      <td>150</td>\n",
       "      <td>0</td>\n",
       "      <td>2.3</td>\n",
       "      <td>3</td>\n",
       "      <td>0</td>\n",
       "      <td>6</td>\n",
       "      <td>0</td>\n",
       "      <td>0</td>\n",
       "    </tr>\n",
       "    <tr>\n",
       "      <th>1</th>\n",
       "      <td>67</td>\n",
       "      <td>1</td>\n",
       "      <td>4</td>\n",
       "      <td>160</td>\n",
       "      <td>286</td>\n",
       "      <td>0</td>\n",
       "      <td>2</td>\n",
       "      <td>108</td>\n",
       "      <td>1</td>\n",
       "      <td>1.5</td>\n",
       "      <td>2</td>\n",
       "      <td>3</td>\n",
       "      <td>3</td>\n",
       "      <td>2</td>\n",
       "      <td>1</td>\n",
       "    </tr>\n",
       "    <tr>\n",
       "      <th>2</th>\n",
       "      <td>67</td>\n",
       "      <td>1</td>\n",
       "      <td>4</td>\n",
       "      <td>120</td>\n",
       "      <td>229</td>\n",
       "      <td>0</td>\n",
       "      <td>2</td>\n",
       "      <td>129</td>\n",
       "      <td>1</td>\n",
       "      <td>2.6</td>\n",
       "      <td>2</td>\n",
       "      <td>2</td>\n",
       "      <td>7</td>\n",
       "      <td>1</td>\n",
       "      <td>0</td>\n",
       "    </tr>\n",
       "    <tr>\n",
       "      <th>3</th>\n",
       "      <td>37</td>\n",
       "      <td>1</td>\n",
       "      <td>3</td>\n",
       "      <td>130</td>\n",
       "      <td>250</td>\n",
       "      <td>0</td>\n",
       "      <td>0</td>\n",
       "      <td>187</td>\n",
       "      <td>0</td>\n",
       "      <td>3.5</td>\n",
       "      <td>3</td>\n",
       "      <td>0</td>\n",
       "      <td>3</td>\n",
       "      <td>0</td>\n",
       "      <td>0</td>\n",
       "    </tr>\n",
       "    <tr>\n",
       "      <th>4</th>\n",
       "      <td>41</td>\n",
       "      <td>0</td>\n",
       "      <td>2</td>\n",
       "      <td>130</td>\n",
       "      <td>204</td>\n",
       "      <td>0</td>\n",
       "      <td>2</td>\n",
       "      <td>172</td>\n",
       "      <td>0</td>\n",
       "      <td>1.4</td>\n",
       "      <td>1</td>\n",
       "      <td>0</td>\n",
       "      <td>3</td>\n",
       "      <td>0</td>\n",
       "      <td>0</td>\n",
       "    </tr>\n",
       "    <tr>\n",
       "      <th>...</th>\n",
       "      <td>...</td>\n",
       "      <td>...</td>\n",
       "      <td>...</td>\n",
       "      <td>...</td>\n",
       "      <td>...</td>\n",
       "      <td>...</td>\n",
       "      <td>...</td>\n",
       "      <td>...</td>\n",
       "      <td>...</td>\n",
       "      <td>...</td>\n",
       "      <td>...</td>\n",
       "      <td>...</td>\n",
       "      <td>...</td>\n",
       "      <td>...</td>\n",
       "      <td>...</td>\n",
       "    </tr>\n",
       "    <tr>\n",
       "      <th>298</th>\n",
       "      <td>45</td>\n",
       "      <td>1</td>\n",
       "      <td>1</td>\n",
       "      <td>110</td>\n",
       "      <td>264</td>\n",
       "      <td>0</td>\n",
       "      <td>0</td>\n",
       "      <td>132</td>\n",
       "      <td>0</td>\n",
       "      <td>1.2</td>\n",
       "      <td>2</td>\n",
       "      <td>0</td>\n",
       "      <td>7</td>\n",
       "      <td>1</td>\n",
       "      <td>1</td>\n",
       "    </tr>\n",
       "    <tr>\n",
       "      <th>299</th>\n",
       "      <td>68</td>\n",
       "      <td>1</td>\n",
       "      <td>4</td>\n",
       "      <td>144</td>\n",
       "      <td>193</td>\n",
       "      <td>1</td>\n",
       "      <td>0</td>\n",
       "      <td>141</td>\n",
       "      <td>0</td>\n",
       "      <td>3.4</td>\n",
       "      <td>2</td>\n",
       "      <td>2</td>\n",
       "      <td>7</td>\n",
       "      <td>2</td>\n",
       "      <td>0</td>\n",
       "    </tr>\n",
       "    <tr>\n",
       "      <th>300</th>\n",
       "      <td>57</td>\n",
       "      <td>1</td>\n",
       "      <td>4</td>\n",
       "      <td>130</td>\n",
       "      <td>131</td>\n",
       "      <td>0</td>\n",
       "      <td>0</td>\n",
       "      <td>115</td>\n",
       "      <td>1</td>\n",
       "      <td>1.2</td>\n",
       "      <td>2</td>\n",
       "      <td>1</td>\n",
       "      <td>7</td>\n",
       "      <td>3</td>\n",
       "      <td>0</td>\n",
       "    </tr>\n",
       "    <tr>\n",
       "      <th>301</th>\n",
       "      <td>57</td>\n",
       "      <td>0</td>\n",
       "      <td>2</td>\n",
       "      <td>130</td>\n",
       "      <td>236</td>\n",
       "      <td>0</td>\n",
       "      <td>2</td>\n",
       "      <td>174</td>\n",
       "      <td>0</td>\n",
       "      <td>0.0</td>\n",
       "      <td>2</td>\n",
       "      <td>1</td>\n",
       "      <td>3</td>\n",
       "      <td>1</td>\n",
       "      <td>0</td>\n",
       "    </tr>\n",
       "    <tr>\n",
       "      <th>302</th>\n",
       "      <td>38</td>\n",
       "      <td>1</td>\n",
       "      <td>3</td>\n",
       "      <td>138</td>\n",
       "      <td>175</td>\n",
       "      <td>0</td>\n",
       "      <td>0</td>\n",
       "      <td>173</td>\n",
       "      <td>0</td>\n",
       "      <td>0.0</td>\n",
       "      <td>1</td>\n",
       "      <td>?</td>\n",
       "      <td>3</td>\n",
       "      <td>0</td>\n",
       "      <td>0</td>\n",
       "    </tr>\n",
       "  </tbody>\n",
       "</table>\n",
       "<p>303 rows × 15 columns</p>\n",
       "</div>"
      ],
      "text/plain": [
       "     Age  Sex  cp  trestbps  chol  fbs  restecg  thalach  exang  oldpeak  \\\n",
       "0     63    1   1       145   233    1        2      150      0      2.3   \n",
       "1     67    1   4       160   286    0        2      108      1      1.5   \n",
       "2     67    1   4       120   229    0        2      129      1      2.6   \n",
       "3     37    1   3       130   250    0        0      187      0      3.5   \n",
       "4     41    0   2       130   204    0        2      172      0      1.4   \n",
       "..   ...  ...  ..       ...   ...  ...      ...      ...    ...      ...   \n",
       "298   45    1   1       110   264    0        0      132      0      1.2   \n",
       "299   68    1   4       144   193    1        0      141      0      3.4   \n",
       "300   57    1   4       130   131    0        0      115      1      1.2   \n",
       "301   57    0   2       130   236    0        2      174      0      0.0   \n",
       "302   38    1   3       138   175    0        0      173      0      0.0   \n",
       "\n",
       "     slope ca thal  Num  Class  \n",
       "0        3  0    6    0      0  \n",
       "1        2  3    3    2      1  \n",
       "2        2  2    7    1      0  \n",
       "3        3  0    3    0      0  \n",
       "4        1  0    3    0      0  \n",
       "..     ... ..  ...  ...    ...  \n",
       "298      2  0    7    1      1  \n",
       "299      2  2    7    2      0  \n",
       "300      2  1    7    3      0  \n",
       "301      2  1    3    1      0  \n",
       "302      1  ?    3    0      0  \n",
       "\n",
       "[303 rows x 15 columns]"
      ]
     },
     "execution_count": 37,
     "metadata": {},
     "output_type": "execute_result"
    }
   ],
   "source": [
    "df"
   ]
  },
  {
   "cell_type": "code",
   "execution_count": 38,
   "metadata": {},
   "outputs": [],
   "source": [
    "df.replace('?','0',inplace = True)"
   ]
  },
  {
   "cell_type": "code",
   "execution_count": 39,
   "metadata": {},
   "outputs": [
    {
     "data": {
      "text/html": [
       "<div>\n",
       "<style scoped>\n",
       "    .dataframe tbody tr th:only-of-type {\n",
       "        vertical-align: middle;\n",
       "    }\n",
       "\n",
       "    .dataframe tbody tr th {\n",
       "        vertical-align: top;\n",
       "    }\n",
       "\n",
       "    .dataframe thead th {\n",
       "        text-align: right;\n",
       "    }\n",
       "</style>\n",
       "<table border=\"1\" class=\"dataframe\">\n",
       "  <thead>\n",
       "    <tr style=\"text-align: right;\">\n",
       "      <th></th>\n",
       "      <th>Age</th>\n",
       "      <th>Sex</th>\n",
       "      <th>cp</th>\n",
       "      <th>trestbps</th>\n",
       "      <th>chol</th>\n",
       "      <th>fbs</th>\n",
       "      <th>restecg</th>\n",
       "      <th>thalach</th>\n",
       "      <th>exang</th>\n",
       "      <th>oldpeak</th>\n",
       "      <th>slope</th>\n",
       "      <th>ca</th>\n",
       "      <th>thal</th>\n",
       "      <th>Num</th>\n",
       "      <th>Class</th>\n",
       "    </tr>\n",
       "  </thead>\n",
       "  <tbody>\n",
       "    <tr>\n",
       "      <th>0</th>\n",
       "      <td>63</td>\n",
       "      <td>1</td>\n",
       "      <td>1</td>\n",
       "      <td>145</td>\n",
       "      <td>233</td>\n",
       "      <td>1</td>\n",
       "      <td>2</td>\n",
       "      <td>150</td>\n",
       "      <td>0</td>\n",
       "      <td>2.3</td>\n",
       "      <td>3</td>\n",
       "      <td>0</td>\n",
       "      <td>6</td>\n",
       "      <td>0</td>\n",
       "      <td>0</td>\n",
       "    </tr>\n",
       "    <tr>\n",
       "      <th>1</th>\n",
       "      <td>67</td>\n",
       "      <td>1</td>\n",
       "      <td>4</td>\n",
       "      <td>160</td>\n",
       "      <td>286</td>\n",
       "      <td>0</td>\n",
       "      <td>2</td>\n",
       "      <td>108</td>\n",
       "      <td>1</td>\n",
       "      <td>1.5</td>\n",
       "      <td>2</td>\n",
       "      <td>3</td>\n",
       "      <td>3</td>\n",
       "      <td>2</td>\n",
       "      <td>1</td>\n",
       "    </tr>\n",
       "    <tr>\n",
       "      <th>2</th>\n",
       "      <td>67</td>\n",
       "      <td>1</td>\n",
       "      <td>4</td>\n",
       "      <td>120</td>\n",
       "      <td>229</td>\n",
       "      <td>0</td>\n",
       "      <td>2</td>\n",
       "      <td>129</td>\n",
       "      <td>1</td>\n",
       "      <td>2.6</td>\n",
       "      <td>2</td>\n",
       "      <td>2</td>\n",
       "      <td>7</td>\n",
       "      <td>1</td>\n",
       "      <td>0</td>\n",
       "    </tr>\n",
       "    <tr>\n",
       "      <th>3</th>\n",
       "      <td>37</td>\n",
       "      <td>1</td>\n",
       "      <td>3</td>\n",
       "      <td>130</td>\n",
       "      <td>250</td>\n",
       "      <td>0</td>\n",
       "      <td>0</td>\n",
       "      <td>187</td>\n",
       "      <td>0</td>\n",
       "      <td>3.5</td>\n",
       "      <td>3</td>\n",
       "      <td>0</td>\n",
       "      <td>3</td>\n",
       "      <td>0</td>\n",
       "      <td>0</td>\n",
       "    </tr>\n",
       "    <tr>\n",
       "      <th>4</th>\n",
       "      <td>41</td>\n",
       "      <td>0</td>\n",
       "      <td>2</td>\n",
       "      <td>130</td>\n",
       "      <td>204</td>\n",
       "      <td>0</td>\n",
       "      <td>2</td>\n",
       "      <td>172</td>\n",
       "      <td>0</td>\n",
       "      <td>1.4</td>\n",
       "      <td>1</td>\n",
       "      <td>0</td>\n",
       "      <td>3</td>\n",
       "      <td>0</td>\n",
       "      <td>0</td>\n",
       "    </tr>\n",
       "    <tr>\n",
       "      <th>...</th>\n",
       "      <td>...</td>\n",
       "      <td>...</td>\n",
       "      <td>...</td>\n",
       "      <td>...</td>\n",
       "      <td>...</td>\n",
       "      <td>...</td>\n",
       "      <td>...</td>\n",
       "      <td>...</td>\n",
       "      <td>...</td>\n",
       "      <td>...</td>\n",
       "      <td>...</td>\n",
       "      <td>...</td>\n",
       "      <td>...</td>\n",
       "      <td>...</td>\n",
       "      <td>...</td>\n",
       "    </tr>\n",
       "    <tr>\n",
       "      <th>298</th>\n",
       "      <td>45</td>\n",
       "      <td>1</td>\n",
       "      <td>1</td>\n",
       "      <td>110</td>\n",
       "      <td>264</td>\n",
       "      <td>0</td>\n",
       "      <td>0</td>\n",
       "      <td>132</td>\n",
       "      <td>0</td>\n",
       "      <td>1.2</td>\n",
       "      <td>2</td>\n",
       "      <td>0</td>\n",
       "      <td>7</td>\n",
       "      <td>1</td>\n",
       "      <td>1</td>\n",
       "    </tr>\n",
       "    <tr>\n",
       "      <th>299</th>\n",
       "      <td>68</td>\n",
       "      <td>1</td>\n",
       "      <td>4</td>\n",
       "      <td>144</td>\n",
       "      <td>193</td>\n",
       "      <td>1</td>\n",
       "      <td>0</td>\n",
       "      <td>141</td>\n",
       "      <td>0</td>\n",
       "      <td>3.4</td>\n",
       "      <td>2</td>\n",
       "      <td>2</td>\n",
       "      <td>7</td>\n",
       "      <td>2</td>\n",
       "      <td>0</td>\n",
       "    </tr>\n",
       "    <tr>\n",
       "      <th>300</th>\n",
       "      <td>57</td>\n",
       "      <td>1</td>\n",
       "      <td>4</td>\n",
       "      <td>130</td>\n",
       "      <td>131</td>\n",
       "      <td>0</td>\n",
       "      <td>0</td>\n",
       "      <td>115</td>\n",
       "      <td>1</td>\n",
       "      <td>1.2</td>\n",
       "      <td>2</td>\n",
       "      <td>1</td>\n",
       "      <td>7</td>\n",
       "      <td>3</td>\n",
       "      <td>0</td>\n",
       "    </tr>\n",
       "    <tr>\n",
       "      <th>301</th>\n",
       "      <td>57</td>\n",
       "      <td>0</td>\n",
       "      <td>2</td>\n",
       "      <td>130</td>\n",
       "      <td>236</td>\n",
       "      <td>0</td>\n",
       "      <td>2</td>\n",
       "      <td>174</td>\n",
       "      <td>0</td>\n",
       "      <td>0.0</td>\n",
       "      <td>2</td>\n",
       "      <td>1</td>\n",
       "      <td>3</td>\n",
       "      <td>1</td>\n",
       "      <td>0</td>\n",
       "    </tr>\n",
       "    <tr>\n",
       "      <th>302</th>\n",
       "      <td>38</td>\n",
       "      <td>1</td>\n",
       "      <td>3</td>\n",
       "      <td>138</td>\n",
       "      <td>175</td>\n",
       "      <td>0</td>\n",
       "      <td>0</td>\n",
       "      <td>173</td>\n",
       "      <td>0</td>\n",
       "      <td>0.0</td>\n",
       "      <td>1</td>\n",
       "      <td>0</td>\n",
       "      <td>3</td>\n",
       "      <td>0</td>\n",
       "      <td>0</td>\n",
       "    </tr>\n",
       "  </tbody>\n",
       "</table>\n",
       "<p>303 rows × 15 columns</p>\n",
       "</div>"
      ],
      "text/plain": [
       "     Age  Sex  cp  trestbps  chol  fbs  restecg  thalach  exang  oldpeak  \\\n",
       "0     63    1   1       145   233    1        2      150      0      2.3   \n",
       "1     67    1   4       160   286    0        2      108      1      1.5   \n",
       "2     67    1   4       120   229    0        2      129      1      2.6   \n",
       "3     37    1   3       130   250    0        0      187      0      3.5   \n",
       "4     41    0   2       130   204    0        2      172      0      1.4   \n",
       "..   ...  ...  ..       ...   ...  ...      ...      ...    ...      ...   \n",
       "298   45    1   1       110   264    0        0      132      0      1.2   \n",
       "299   68    1   4       144   193    1        0      141      0      3.4   \n",
       "300   57    1   4       130   131    0        0      115      1      1.2   \n",
       "301   57    0   2       130   236    0        2      174      0      0.0   \n",
       "302   38    1   3       138   175    0        0      173      0      0.0   \n",
       "\n",
       "     slope ca thal  Num  Class  \n",
       "0        3  0    6    0      0  \n",
       "1        2  3    3    2      1  \n",
       "2        2  2    7    1      0  \n",
       "3        3  0    3    0      0  \n",
       "4        1  0    3    0      0  \n",
       "..     ... ..  ...  ...    ...  \n",
       "298      2  0    7    1      1  \n",
       "299      2  2    7    2      0  \n",
       "300      2  1    7    3      0  \n",
       "301      2  1    3    1      0  \n",
       "302      1  0    3    0      0  \n",
       "\n",
       "[303 rows x 15 columns]"
      ]
     },
     "execution_count": 39,
     "metadata": {},
     "output_type": "execute_result"
    }
   ],
   "source": [
    "df"
   ]
  },
  {
   "cell_type": "code",
   "execution_count": 80,
   "metadata": {},
   "outputs": [
    {
     "data": {
      "text/plain": [
       "0    192\n",
       "1    111\n",
       "Name: Class, dtype: int64"
      ]
     },
     "execution_count": 80,
     "metadata": {},
     "output_type": "execute_result"
    }
   ],
   "source": [
    "df['Class'].value_counts()"
   ]
  },
  {
   "cell_type": "code",
   "execution_count": 44,
   "metadata": {},
   "outputs": [],
   "source": [
    "xc = df.iloc[:,:-1].values\n",
    "y = df.iloc[:,-1].values"
   ]
  },
  {
   "cell_type": "code",
   "execution_count": 54,
   "metadata": {},
   "outputs": [
    {
     "data": {
      "text/plain": [
       "array([[-1.1318520842611726, 1, 4, ..., '1', '3', 1],\n",
       "       [0.07286212937466989, 1, 4, ..., '1', '7', 4],\n",
       "       [-0.03665734459222488, 1, 4, ..., '1', '7', 2],\n",
       "       ...,\n",
       "       [-2.1175273499632254, 0, 4, ..., '0', '3', 0],\n",
       "       [-0.474735240459804, 1, 4, ..., '0', '7', 4],\n",
       "       [0.510940025242249, 0, 4, ..., '0', '3', 1]], dtype=object)"
      ]
     },
     "execution_count": 54,
     "metadata": {},
     "output_type": "execute_result"
    }
   ],
   "source": [
    "xc_train"
   ]
  },
  {
   "cell_type": "code",
   "execution_count": 51,
   "metadata": {},
   "outputs": [
    {
     "data": {
      "text/plain": [
       "array([[63, 145, 233, 150, 2.3],\n",
       "       [67, 160, 286, 108, 1.5],\n",
       "       [67, 120, 229, 129, 2.6],\n",
       "       ...,\n",
       "       [57, 130, 131, 115, 1.2],\n",
       "       [57, 130, 236, 174, 0.0],\n",
       "       [38, 138, 175, 173, 0.0]], dtype=object)"
      ]
     },
     "execution_count": 51,
     "metadata": {},
     "output_type": "execute_result"
    }
   ],
   "source": [
    "xc[:,[0,3,4,7,9]]"
   ]
  },
  {
   "cell_type": "code",
   "execution_count": 49,
   "metadata": {},
   "outputs": [],
   "source": [
    "from sklearn.model_selection import train_test_split\n",
    "xc_train,xc_test,y_train,y_test = train_test_split(xc,y,test_size = 0.2, random_state = 0)"
   ]
  },
  {
   "cell_type": "code",
   "execution_count": 52,
   "metadata": {},
   "outputs": [],
   "source": [
    "from sklearn.preprocessing import StandardScaler\n",
    "sc = StandardScaler()\n",
    "xc_train[:,[0,3,4,7,9]] = sc.fit_transform(xc_train[:,[0,3,4,7,9]])\n",
    "xc_test[:,[0,3,4,7,9]] = sc.transform(xc_test[:,[0,3,4,7,9]])"
   ]
  },
  {
   "cell_type": "code",
   "execution_count": null,
   "metadata": {},
   "outputs": [],
   "source": []
  },
  {
   "cell_type": "code",
   "execution_count": 42,
   "metadata": {},
   "outputs": [
    {
     "data": {
      "text/plain": [
       "str"
      ]
     },
     "execution_count": 42,
     "metadata": {},
     "output_type": "execute_result"
    }
   ],
   "source": [
    "type(df['ca'][0])"
   ]
  },
  {
   "cell_type": "code",
   "execution_count": 43,
   "metadata": {},
   "outputs": [],
   "source": [
    "from sklearn.neighbors import KNeighborsClassifier"
   ]
  },
  {
   "cell_type": "code",
   "execution_count": 57,
   "metadata": {},
   "outputs": [
    {
     "data": {
      "text/plain": [
       "KNeighborsClassifier(algorithm='auto', leaf_size=30, metric='minkowski',\n",
       "                     metric_params=None, n_jobs=None, n_neighbors=5, p=2,\n",
       "                     weights='uniform')"
      ]
     },
     "execution_count": 57,
     "metadata": {},
     "output_type": "execute_result"
    }
   ],
   "source": [
    "cl = KNeighborsClassifier(n_neighbors = 5)\n",
    "cl.fit(xc_train,y_train)"
   ]
  },
  {
   "cell_type": "code",
   "execution_count": 58,
   "metadata": {},
   "outputs": [],
   "source": [
    "y_pred = cl.predict(xc_test)"
   ]
  },
  {
   "cell_type": "code",
   "execution_count": 59,
   "metadata": {},
   "outputs": [
    {
     "name": "stdout",
     "output_type": "stream",
     "text": [
      "[[33  3]\n",
      " [ 9 16]]\n"
     ]
    },
    {
     "data": {
      "text/plain": [
       "0.8032786885245902"
      ]
     },
     "execution_count": 59,
     "metadata": {},
     "output_type": "execute_result"
    }
   ],
   "source": [
    "from sklearn.metrics import confusion_matrix , accuracy_score\n",
    "cm = confusion_matrix(y_test,y_pred)\n",
    "print(cm)\n",
    "accuracy_score(y_test,y_pred)"
   ]
  },
  {
   "cell_type": "code",
   "execution_count": 60,
   "metadata": {},
   "outputs": [
    {
     "data": {
      "text/plain": [
       "SVC(C=1.0, break_ties=False, cache_size=200, class_weight=None, coef0=0.0,\n",
       "    decision_function_shape='ovr', degree=3, gamma='scale', kernel='rbf',\n",
       "    max_iter=-1, probability=False, random_state=0, shrinking=True, tol=0.001,\n",
       "    verbose=False)"
      ]
     },
     "execution_count": 60,
     "metadata": {},
     "output_type": "execute_result"
    }
   ],
   "source": [
    "from sklearn.svm import SVC\n",
    "svm = SVC(kernel = 'rbf',random_state = 0)\n",
    "svm.fit(xc_train,y_train)"
   ]
  },
  {
   "cell_type": "code",
   "execution_count": 61,
   "metadata": {},
   "outputs": [],
   "source": [
    "svm_pred = svm.predict(xc_test)"
   ]
  },
  {
   "cell_type": "code",
   "execution_count": 62,
   "metadata": {},
   "outputs": [
    {
     "name": "stdout",
     "output_type": "stream",
     "text": [
      "[[35  1]\n",
      " [ 5 20]]\n"
     ]
    },
    {
     "data": {
      "text/plain": [
       "0.9016393442622951"
      ]
     },
     "execution_count": 62,
     "metadata": {},
     "output_type": "execute_result"
    }
   ],
   "source": [
    "from sklearn.metrics import confusion_matrix , accuracy_score\n",
    "cm = confusion_matrix(y_test,svm_pred)\n",
    "print(cm)\n",
    "accuracy_score(y_test,svm_pred)"
   ]
  },
  {
   "cell_type": "code",
   "execution_count": 82,
   "metadata": {},
   "outputs": [
    {
     "data": {
      "text/plain": [
       "DecisionTreeClassifier(ccp_alpha=0.0, class_weight=None, criterion='entropy',\n",
       "                       max_depth=None, max_features=None, max_leaf_nodes=None,\n",
       "                       min_impurity_decrease=0.0, min_impurity_split=None,\n",
       "                       min_samples_leaf=1, min_samples_split=2,\n",
       "                       min_weight_fraction_leaf=0.0, presort='deprecated',\n",
       "                       random_state=0, splitter='best')"
      ]
     },
     "execution_count": 82,
     "metadata": {},
     "output_type": "execute_result"
    }
   ],
   "source": [
    "from sklearn.tree import DecisionTreeClassifier\n",
    "tree = DecisionTreeClassifier(criterion = 'entropy',random_state = 0)\n",
    "tree.fit(xc_train,y_train)"
   ]
  },
  {
   "cell_type": "code",
   "execution_count": 64,
   "metadata": {},
   "outputs": [],
   "source": [
    "tree_pred = tree.predict(xc_test)"
   ]
  },
  {
   "cell_type": "code",
   "execution_count": 65,
   "metadata": {},
   "outputs": [
    {
     "name": "stdout",
     "output_type": "stream",
     "text": [
      "[[36  0]\n",
      " [ 1 24]]\n"
     ]
    },
    {
     "data": {
      "text/plain": [
       "0.9836065573770492"
      ]
     },
     "execution_count": 65,
     "metadata": {},
     "output_type": "execute_result"
    }
   ],
   "source": [
    "from sklearn.metrics import confusion_matrix , accuracy_score\n",
    "cm = confusion_matrix(y_test,tree_pred)\n",
    "print(cm)\n",
    "accuracy_score(y_test,tree_pred)"
   ]
  },
  {
   "cell_type": "code",
   "execution_count": 66,
   "metadata": {},
   "outputs": [
    {
     "data": {
      "text/plain": [
       "XGBClassifier(base_score=0.5, booster='gbtree', colsample_bylevel=1,\n",
       "              colsample_bynode=1, colsample_bytree=1, gamma=0,\n",
       "              learning_rate=0.1, max_delta_step=0, max_depth=3,\n",
       "              min_child_weight=1, missing=None, n_estimators=100, n_jobs=1,\n",
       "              nthread=None, objective='binary:logistic', random_state=0,\n",
       "              reg_alpha=0, reg_lambda=1, scale_pos_weight=1, seed=None,\n",
       "              silent=None, subsample=1, verbosity=1)"
      ]
     },
     "execution_count": 66,
     "metadata": {},
     "output_type": "execute_result"
    }
   ],
   "source": [
    "from xgboost import XGBClassifier\n",
    "boost = XGBClassifier()\n",
    "boost.fit(xc_train,y_train)"
   ]
  },
  {
   "cell_type": "code",
   "execution_count": 67,
   "metadata": {},
   "outputs": [],
   "source": [
    "boost_pred = boost.predict(xc_test)"
   ]
  },
  {
   "cell_type": "code",
   "execution_count": 68,
   "metadata": {},
   "outputs": [
    {
     "name": "stdout",
     "output_type": "stream",
     "text": [
      "[[36  0]\n",
      " [ 0 25]]\n"
     ]
    },
    {
     "data": {
      "text/plain": [
       "1.0"
      ]
     },
     "execution_count": 68,
     "metadata": {},
     "output_type": "execute_result"
    }
   ],
   "source": [
    "from sklearn.metrics import confusion_matrix , accuracy_score\n",
    "cm = confusion_matrix(y_test,boost_pred)\n",
    "print(cm)\n",
    "accuracy_score(y_test,boost_pred)"
   ]
  },
  {
   "cell_type": "code",
   "execution_count": 74,
   "metadata": {},
   "outputs": [
    {
     "name": "stdout",
     "output_type": "stream",
     "text": [
      "Learning rate set to 0.005621\n",
      "0:\tlearn: 0.6819126\ttotal: 64.5ms\tremaining: 1m 4s\n",
      "1:\tlearn: 0.6718954\ttotal: 68.8ms\tremaining: 34.3s\n",
      "2:\tlearn: 0.6612677\ttotal: 71.3ms\tremaining: 23.7s\n",
      "3:\tlearn: 0.6512102\ttotal: 73.8ms\tremaining: 18.4s\n",
      "4:\tlearn: 0.6428511\ttotal: 76.5ms\tremaining: 15.2s\n",
      "5:\tlearn: 0.6339570\ttotal: 79.6ms\tremaining: 13.2s\n",
      "6:\tlearn: 0.6248524\ttotal: 82ms\tremaining: 11.6s\n",
      "7:\tlearn: 0.6138005\ttotal: 83.8ms\tremaining: 10.4s\n",
      "8:\tlearn: 0.6056807\ttotal: 86.3ms\tremaining: 9.5s\n",
      "9:\tlearn: 0.5973356\ttotal: 88.7ms\tremaining: 8.79s\n",
      "10:\tlearn: 0.5903820\ttotal: 91.7ms\tremaining: 8.24s\n",
      "11:\tlearn: 0.5824601\ttotal: 94.1ms\tremaining: 7.74s\n",
      "12:\tlearn: 0.5741495\ttotal: 96.4ms\tremaining: 7.32s\n",
      "13:\tlearn: 0.5661550\ttotal: 98.9ms\tremaining: 6.96s\n",
      "14:\tlearn: 0.5584195\ttotal: 101ms\tremaining: 6.64s\n",
      "15:\tlearn: 0.5521532\ttotal: 104ms\tremaining: 6.42s\n",
      "16:\tlearn: 0.5442155\ttotal: 107ms\tremaining: 6.18s\n",
      "17:\tlearn: 0.5383467\ttotal: 109ms\tremaining: 5.93s\n",
      "18:\tlearn: 0.5313270\ttotal: 111ms\tremaining: 5.74s\n",
      "19:\tlearn: 0.5215602\ttotal: 114ms\tremaining: 5.57s\n",
      "20:\tlearn: 0.5138829\ttotal: 117ms\tremaining: 5.43s\n",
      "21:\tlearn: 0.5059510\ttotal: 119ms\tremaining: 5.28s\n",
      "22:\tlearn: 0.4995945\ttotal: 121ms\tremaining: 5.13s\n",
      "23:\tlearn: 0.4928457\ttotal: 123ms\tremaining: 5.01s\n",
      "24:\tlearn: 0.4862080\ttotal: 126ms\tremaining: 4.9s\n",
      "25:\tlearn: 0.4799152\ttotal: 128ms\tremaining: 4.81s\n",
      "26:\tlearn: 0.4738434\ttotal: 131ms\tremaining: 4.72s\n",
      "27:\tlearn: 0.4663318\ttotal: 133ms\tremaining: 4.61s\n",
      "28:\tlearn: 0.4591979\ttotal: 135ms\tremaining: 4.53s\n",
      "29:\tlearn: 0.4535138\ttotal: 137ms\tremaining: 4.43s\n",
      "30:\tlearn: 0.4478668\ttotal: 138ms\tremaining: 4.33s\n",
      "31:\tlearn: 0.4418655\ttotal: 140ms\tremaining: 4.24s\n",
      "32:\tlearn: 0.4351020\ttotal: 143ms\tremaining: 4.18s\n",
      "33:\tlearn: 0.4296613\ttotal: 145ms\tremaining: 4.13s\n",
      "34:\tlearn: 0.4238698\ttotal: 147ms\tremaining: 4.05s\n",
      "35:\tlearn: 0.4190053\ttotal: 149ms\tremaining: 3.98s\n",
      "36:\tlearn: 0.4130699\ttotal: 150ms\tremaining: 3.91s\n",
      "37:\tlearn: 0.4083133\ttotal: 152ms\tremaining: 3.85s\n",
      "38:\tlearn: 0.4038280\ttotal: 154ms\tremaining: 3.8s\n",
      "39:\tlearn: 0.3988078\ttotal: 156ms\tremaining: 3.75s\n",
      "40:\tlearn: 0.3938163\ttotal: 158ms\tremaining: 3.69s\n",
      "41:\tlearn: 0.3872616\ttotal: 159ms\tremaining: 3.63s\n",
      "42:\tlearn: 0.3821262\ttotal: 160ms\tremaining: 3.57s\n",
      "43:\tlearn: 0.3779046\ttotal: 162ms\tremaining: 3.52s\n",
      "44:\tlearn: 0.3736779\ttotal: 163ms\tremaining: 3.46s\n",
      "45:\tlearn: 0.3687496\ttotal: 164ms\tremaining: 3.4s\n",
      "46:\tlearn: 0.3632315\ttotal: 165ms\tremaining: 3.35s\n",
      "47:\tlearn: 0.3580088\ttotal: 167ms\tremaining: 3.31s\n",
      "48:\tlearn: 0.3532362\ttotal: 168ms\tremaining: 3.25s\n",
      "49:\tlearn: 0.3491876\ttotal: 169ms\tremaining: 3.2s\n",
      "50:\tlearn: 0.3442668\ttotal: 170ms\tremaining: 3.16s\n",
      "51:\tlearn: 0.3397986\ttotal: 171ms\tremaining: 3.11s\n",
      "52:\tlearn: 0.3353654\ttotal: 172ms\tremaining: 3.07s\n",
      "53:\tlearn: 0.3310651\ttotal: 173ms\tremaining: 3.03s\n",
      "54:\tlearn: 0.3274142\ttotal: 174ms\tremaining: 2.99s\n",
      "55:\tlearn: 0.3230303\ttotal: 175ms\tremaining: 2.95s\n",
      "56:\tlearn: 0.3186040\ttotal: 176ms\tremaining: 2.92s\n",
      "57:\tlearn: 0.3154835\ttotal: 177ms\tremaining: 2.88s\n",
      "58:\tlearn: 0.3122813\ttotal: 179ms\tremaining: 2.85s\n",
      "59:\tlearn: 0.3077254\ttotal: 180ms\tremaining: 2.82s\n",
      "60:\tlearn: 0.3034401\ttotal: 181ms\tremaining: 2.79s\n",
      "61:\tlearn: 0.2994535\ttotal: 182ms\tremaining: 2.75s\n",
      "62:\tlearn: 0.2957362\ttotal: 184ms\tremaining: 2.73s\n",
      "63:\tlearn: 0.2927619\ttotal: 185ms\tremaining: 2.71s\n",
      "64:\tlearn: 0.2896687\ttotal: 186ms\tremaining: 2.68s\n",
      "65:\tlearn: 0.2867244\ttotal: 188ms\tremaining: 2.66s\n",
      "66:\tlearn: 0.2823942\ttotal: 190ms\tremaining: 2.64s\n",
      "67:\tlearn: 0.2786286\ttotal: 191ms\tremaining: 2.62s\n",
      "68:\tlearn: 0.2749320\ttotal: 192ms\tremaining: 2.59s\n",
      "69:\tlearn: 0.2717627\ttotal: 194ms\tremaining: 2.58s\n",
      "70:\tlearn: 0.2690595\ttotal: 197ms\tremaining: 2.58s\n",
      "71:\tlearn: 0.2653640\ttotal: 200ms\tremaining: 2.58s\n",
      "72:\tlearn: 0.2624876\ttotal: 203ms\tremaining: 2.57s\n",
      "73:\tlearn: 0.2589287\ttotal: 205ms\tremaining: 2.57s\n",
      "74:\tlearn: 0.2568091\ttotal: 207ms\tremaining: 2.56s\n",
      "75:\tlearn: 0.2528963\ttotal: 209ms\tremaining: 2.54s\n",
      "76:\tlearn: 0.2497873\ttotal: 211ms\tremaining: 2.53s\n",
      "77:\tlearn: 0.2472663\ttotal: 214ms\tremaining: 2.53s\n",
      "78:\tlearn: 0.2446945\ttotal: 217ms\tremaining: 2.52s\n",
      "79:\tlearn: 0.2415788\ttotal: 218ms\tremaining: 2.51s\n",
      "80:\tlearn: 0.2391635\ttotal: 221ms\tremaining: 2.51s\n",
      "81:\tlearn: 0.2365071\ttotal: 224ms\tremaining: 2.5s\n",
      "82:\tlearn: 0.2335856\ttotal: 226ms\tremaining: 2.5s\n",
      "83:\tlearn: 0.2308683\ttotal: 229ms\tremaining: 2.49s\n",
      "84:\tlearn: 0.2284469\ttotal: 231ms\tremaining: 2.49s\n",
      "85:\tlearn: 0.2258207\ttotal: 234ms\tremaining: 2.48s\n",
      "86:\tlearn: 0.2231392\ttotal: 236ms\tremaining: 2.48s\n",
      "87:\tlearn: 0.2204990\ttotal: 239ms\tremaining: 2.48s\n",
      "88:\tlearn: 0.2186928\ttotal: 241ms\tremaining: 2.47s\n",
      "89:\tlearn: 0.2167259\ttotal: 244ms\tremaining: 2.46s\n",
      "90:\tlearn: 0.2144894\ttotal: 246ms\tremaining: 2.46s\n",
      "91:\tlearn: 0.2123551\ttotal: 248ms\tremaining: 2.45s\n",
      "92:\tlearn: 0.2106121\ttotal: 251ms\tremaining: 2.44s\n",
      "93:\tlearn: 0.2084924\ttotal: 253ms\tremaining: 2.44s\n",
      "94:\tlearn: 0.2060641\ttotal: 255ms\tremaining: 2.43s\n",
      "95:\tlearn: 0.2034659\ttotal: 257ms\tremaining: 2.42s\n",
      "96:\tlearn: 0.2013840\ttotal: 259ms\tremaining: 2.41s\n",
      "97:\tlearn: 0.1992568\ttotal: 261ms\tremaining: 2.4s\n",
      "98:\tlearn: 0.1961791\ttotal: 262ms\tremaining: 2.38s\n",
      "99:\tlearn: 0.1946544\ttotal: 263ms\tremaining: 2.37s\n",
      "100:\tlearn: 0.1923665\ttotal: 265ms\tremaining: 2.36s\n",
      "101:\tlearn: 0.1896344\ttotal: 267ms\tremaining: 2.35s\n",
      "102:\tlearn: 0.1875828\ttotal: 269ms\tremaining: 2.34s\n",
      "103:\tlearn: 0.1860617\ttotal: 270ms\tremaining: 2.33s\n",
      "104:\tlearn: 0.1838329\ttotal: 272ms\tremaining: 2.32s\n",
      "105:\tlearn: 0.1818772\ttotal: 274ms\tremaining: 2.31s\n",
      "106:\tlearn: 0.1793864\ttotal: 276ms\tremaining: 2.3s\n",
      "107:\tlearn: 0.1777989\ttotal: 277ms\tremaining: 2.29s\n",
      "108:\tlearn: 0.1763424\ttotal: 279ms\tremaining: 2.28s\n",
      "109:\tlearn: 0.1742370\ttotal: 281ms\tremaining: 2.28s\n",
      "110:\tlearn: 0.1718959\ttotal: 283ms\tremaining: 2.26s\n",
      "111:\tlearn: 0.1699664\ttotal: 284ms\tremaining: 2.25s\n",
      "112:\tlearn: 0.1680974\ttotal: 286ms\tremaining: 2.25s\n",
      "113:\tlearn: 0.1662705\ttotal: 288ms\tremaining: 2.24s\n",
      "114:\tlearn: 0.1646170\ttotal: 290ms\tremaining: 2.23s\n",
      "115:\tlearn: 0.1632814\ttotal: 292ms\tremaining: 2.23s\n",
      "116:\tlearn: 0.1618969\ttotal: 294ms\tremaining: 2.22s\n",
      "117:\tlearn: 0.1598853\ttotal: 296ms\tremaining: 2.21s\n",
      "118:\tlearn: 0.1584330\ttotal: 298ms\tremaining: 2.21s\n",
      "119:\tlearn: 0.1569006\ttotal: 300ms\tremaining: 2.2s\n",
      "120:\tlearn: 0.1553367\ttotal: 303ms\tremaining: 2.2s\n",
      "121:\tlearn: 0.1539286\ttotal: 306ms\tremaining: 2.2s\n",
      "122:\tlearn: 0.1524683\ttotal: 309ms\tremaining: 2.2s\n",
      "123:\tlearn: 0.1509873\ttotal: 312ms\tremaining: 2.21s\n",
      "124:\tlearn: 0.1495578\ttotal: 315ms\tremaining: 2.21s\n",
      "125:\tlearn: 0.1481227\ttotal: 318ms\tremaining: 2.21s\n",
      "126:\tlearn: 0.1470435\ttotal: 321ms\tremaining: 2.21s\n",
      "127:\tlearn: 0.1454271\ttotal: 324ms\tremaining: 2.21s\n",
      "128:\tlearn: 0.1443156\ttotal: 327ms\tremaining: 2.21s\n",
      "129:\tlearn: 0.1429471\ttotal: 330ms\tremaining: 2.21s\n",
      "130:\tlearn: 0.1415444\ttotal: 332ms\tremaining: 2.2s\n",
      "131:\tlearn: 0.1400769\ttotal: 335ms\tremaining: 2.2s\n",
      "132:\tlearn: 0.1388975\ttotal: 337ms\tremaining: 2.2s\n",
      "133:\tlearn: 0.1374571\ttotal: 340ms\tremaining: 2.19s\n",
      "134:\tlearn: 0.1361634\ttotal: 342ms\tremaining: 2.19s\n",
      "135:\tlearn: 0.1347229\ttotal: 345ms\tremaining: 2.19s\n",
      "136:\tlearn: 0.1332531\ttotal: 347ms\tremaining: 2.19s\n",
      "137:\tlearn: 0.1319699\ttotal: 350ms\tremaining: 2.19s\n",
      "138:\tlearn: 0.1310935\ttotal: 353ms\tremaining: 2.19s\n",
      "139:\tlearn: 0.1301185\ttotal: 356ms\tremaining: 2.19s\n",
      "140:\tlearn: 0.1291343\ttotal: 358ms\tremaining: 2.18s\n",
      "141:\tlearn: 0.1282087\ttotal: 361ms\tremaining: 2.18s\n",
      "142:\tlearn: 0.1269987\ttotal: 363ms\tremaining: 2.17s\n",
      "143:\tlearn: 0.1254052\ttotal: 364ms\tremaining: 2.16s\n",
      "144:\tlearn: 0.1242312\ttotal: 366ms\tremaining: 2.16s\n",
      "145:\tlearn: 0.1228876\ttotal: 368ms\tremaining: 2.15s\n",
      "146:\tlearn: 0.1217127\ttotal: 370ms\tremaining: 2.15s\n",
      "147:\tlearn: 0.1207754\ttotal: 372ms\tremaining: 2.14s\n",
      "148:\tlearn: 0.1197451\ttotal: 374ms\tremaining: 2.14s\n",
      "149:\tlearn: 0.1188653\ttotal: 377ms\tremaining: 2.13s\n",
      "150:\tlearn: 0.1173720\ttotal: 378ms\tremaining: 2.13s\n",
      "151:\tlearn: 0.1161913\ttotal: 380ms\tremaining: 2.12s\n",
      "152:\tlearn: 0.1150675\ttotal: 381ms\tremaining: 2.11s\n",
      "153:\tlearn: 0.1137282\ttotal: 382ms\tremaining: 2.1s\n",
      "154:\tlearn: 0.1126511\ttotal: 384ms\tremaining: 2.09s\n",
      "155:\tlearn: 0.1120508\ttotal: 385ms\tremaining: 2.08s\n",
      "156:\tlearn: 0.1113425\ttotal: 386ms\tremaining: 2.07s\n",
      "157:\tlearn: 0.1104911\ttotal: 387ms\tremaining: 2.06s\n",
      "158:\tlearn: 0.1096347\ttotal: 389ms\tremaining: 2.05s\n",
      "159:\tlearn: 0.1088800\ttotal: 390ms\tremaining: 2.04s\n",
      "160:\tlearn: 0.1079454\ttotal: 391ms\tremaining: 2.04s\n",
      "161:\tlearn: 0.1071456\ttotal: 392ms\tremaining: 2.03s\n",
      "162:\tlearn: 0.1062918\ttotal: 393ms\tremaining: 2.02s\n",
      "163:\tlearn: 0.1054824\ttotal: 394ms\tremaining: 2.01s\n",
      "164:\tlearn: 0.1045506\ttotal: 395ms\tremaining: 2s\n",
      "165:\tlearn: 0.1037891\ttotal: 397ms\tremaining: 1.99s\n",
      "166:\tlearn: 0.1025065\ttotal: 397ms\tremaining: 1.98s\n",
      "167:\tlearn: 0.1018460\ttotal: 398ms\tremaining: 1.97s\n",
      "168:\tlearn: 0.1009555\ttotal: 399ms\tremaining: 1.96s\n",
      "169:\tlearn: 0.0998085\ttotal: 400ms\tremaining: 1.95s\n",
      "170:\tlearn: 0.0990705\ttotal: 401ms\tremaining: 1.94s\n",
      "171:\tlearn: 0.0983522\ttotal: 402ms\tremaining: 1.94s\n",
      "172:\tlearn: 0.0974884\ttotal: 403ms\tremaining: 1.93s\n",
      "173:\tlearn: 0.0967175\ttotal: 405ms\tremaining: 1.92s\n",
      "174:\tlearn: 0.0959356\ttotal: 406ms\tremaining: 1.91s\n",
      "175:\tlearn: 0.0950806\ttotal: 407ms\tremaining: 1.91s\n",
      "176:\tlearn: 0.0941433\ttotal: 408ms\tremaining: 1.9s\n",
      "177:\tlearn: 0.0935247\ttotal: 409ms\tremaining: 1.89s\n",
      "178:\tlearn: 0.0925771\ttotal: 411ms\tremaining: 1.88s\n",
      "179:\tlearn: 0.0920037\ttotal: 413ms\tremaining: 1.88s\n",
      "180:\tlearn: 0.0914908\ttotal: 414ms\tremaining: 1.87s\n",
      "181:\tlearn: 0.0909320\ttotal: 415ms\tremaining: 1.86s\n",
      "182:\tlearn: 0.0903117\ttotal: 416ms\tremaining: 1.85s\n",
      "183:\tlearn: 0.0893976\ttotal: 417ms\tremaining: 1.85s\n",
      "184:\tlearn: 0.0885414\ttotal: 418ms\tremaining: 1.84s\n",
      "185:\tlearn: 0.0878278\ttotal: 419ms\tremaining: 1.83s\n",
      "186:\tlearn: 0.0871428\ttotal: 420ms\tremaining: 1.82s\n",
      "187:\tlearn: 0.0864303\ttotal: 421ms\tremaining: 1.82s\n",
      "188:\tlearn: 0.0858244\ttotal: 422ms\tremaining: 1.81s\n",
      "189:\tlearn: 0.0850149\ttotal: 423ms\tremaining: 1.8s\n",
      "190:\tlearn: 0.0843990\ttotal: 425ms\tremaining: 1.8s\n",
      "191:\tlearn: 0.0838541\ttotal: 426ms\tremaining: 1.79s\n",
      "192:\tlearn: 0.0831705\ttotal: 427ms\tremaining: 1.78s\n",
      "193:\tlearn: 0.0826526\ttotal: 429ms\tremaining: 1.78s\n",
      "194:\tlearn: 0.0820883\ttotal: 431ms\tremaining: 1.78s\n",
      "195:\tlearn: 0.0814734\ttotal: 432ms\tremaining: 1.77s\n",
      "196:\tlearn: 0.0807103\ttotal: 434ms\tremaining: 1.77s\n",
      "197:\tlearn: 0.0800429\ttotal: 437ms\tremaining: 1.77s\n",
      "198:\tlearn: 0.0792568\ttotal: 439ms\tremaining: 1.77s\n",
      "199:\tlearn: 0.0786410\ttotal: 442ms\tremaining: 1.77s\n",
      "200:\tlearn: 0.0780693\ttotal: 445ms\tremaining: 1.77s\n",
      "201:\tlearn: 0.0775388\ttotal: 447ms\tremaining: 1.77s\n",
      "202:\tlearn: 0.0767511\ttotal: 450ms\tremaining: 1.76s\n",
      "203:\tlearn: 0.0762751\ttotal: 452ms\tremaining: 1.76s\n",
      "204:\tlearn: 0.0757487\ttotal: 455ms\tremaining: 1.76s\n",
      "205:\tlearn: 0.0752667\ttotal: 458ms\tremaining: 1.76s\n",
      "206:\tlearn: 0.0745407\ttotal: 461ms\tremaining: 1.76s\n",
      "207:\tlearn: 0.0740909\ttotal: 463ms\tremaining: 1.76s\n"
     ]
    },
    {
     "name": "stdout",
     "output_type": "stream",
     "text": [
      "208:\tlearn: 0.0736232\ttotal: 466ms\tremaining: 1.76s\n",
      "209:\tlearn: 0.0732420\ttotal: 469ms\tremaining: 1.76s\n",
      "210:\tlearn: 0.0727029\ttotal: 472ms\tremaining: 1.77s\n",
      "211:\tlearn: 0.0723273\ttotal: 476ms\tremaining: 1.77s\n",
      "212:\tlearn: 0.0718390\ttotal: 479ms\tremaining: 1.77s\n",
      "213:\tlearn: 0.0713650\ttotal: 481ms\tremaining: 1.77s\n",
      "214:\tlearn: 0.0706143\ttotal: 484ms\tremaining: 1.76s\n",
      "215:\tlearn: 0.0698971\ttotal: 486ms\tremaining: 1.76s\n",
      "216:\tlearn: 0.0694745\ttotal: 489ms\tremaining: 1.76s\n",
      "217:\tlearn: 0.0691529\ttotal: 492ms\tremaining: 1.76s\n",
      "218:\tlearn: 0.0685079\ttotal: 495ms\tremaining: 1.76s\n",
      "219:\tlearn: 0.0679175\ttotal: 497ms\tremaining: 1.76s\n",
      "220:\tlearn: 0.0674275\ttotal: 500ms\tremaining: 1.76s\n",
      "221:\tlearn: 0.0670689\ttotal: 502ms\tremaining: 1.76s\n",
      "222:\tlearn: 0.0666168\ttotal: 504ms\tremaining: 1.76s\n",
      "223:\tlearn: 0.0663250\ttotal: 507ms\tremaining: 1.75s\n",
      "224:\tlearn: 0.0657997\ttotal: 509ms\tremaining: 1.75s\n",
      "225:\tlearn: 0.0653147\ttotal: 512ms\tremaining: 1.75s\n",
      "226:\tlearn: 0.0650015\ttotal: 515ms\tremaining: 1.75s\n",
      "227:\tlearn: 0.0643568\ttotal: 518ms\tremaining: 1.75s\n",
      "228:\tlearn: 0.0639485\ttotal: 520ms\tremaining: 1.75s\n",
      "229:\tlearn: 0.0636566\ttotal: 523ms\tremaining: 1.75s\n",
      "230:\tlearn: 0.0631414\ttotal: 525ms\tremaining: 1.75s\n",
      "231:\tlearn: 0.0625423\ttotal: 527ms\tremaining: 1.75s\n",
      "232:\tlearn: 0.0619908\ttotal: 530ms\tremaining: 1.75s\n",
      "233:\tlearn: 0.0615557\ttotal: 533ms\tremaining: 1.74s\n",
      "234:\tlearn: 0.0612770\ttotal: 535ms\tremaining: 1.74s\n",
      "235:\tlearn: 0.0609303\ttotal: 538ms\tremaining: 1.74s\n",
      "236:\tlearn: 0.0605453\ttotal: 540ms\tremaining: 1.74s\n",
      "237:\tlearn: 0.0602279\ttotal: 543ms\tremaining: 1.74s\n",
      "238:\tlearn: 0.0598960\ttotal: 546ms\tremaining: 1.74s\n",
      "239:\tlearn: 0.0595936\ttotal: 548ms\tremaining: 1.74s\n",
      "240:\tlearn: 0.0592670\ttotal: 551ms\tremaining: 1.74s\n",
      "241:\tlearn: 0.0589662\ttotal: 554ms\tremaining: 1.73s\n",
      "242:\tlearn: 0.0586803\ttotal: 557ms\tremaining: 1.74s\n",
      "243:\tlearn: 0.0581666\ttotal: 560ms\tremaining: 1.74s\n",
      "244:\tlearn: 0.0577533\ttotal: 562ms\tremaining: 1.73s\n",
      "245:\tlearn: 0.0574181\ttotal: 565ms\tremaining: 1.73s\n",
      "246:\tlearn: 0.0571465\ttotal: 567ms\tremaining: 1.73s\n",
      "247:\tlearn: 0.0567275\ttotal: 570ms\tremaining: 1.73s\n",
      "248:\tlearn: 0.0563913\ttotal: 573ms\tremaining: 1.73s\n",
      "249:\tlearn: 0.0559082\ttotal: 575ms\tremaining: 1.73s\n",
      "250:\tlearn: 0.0555868\ttotal: 578ms\tremaining: 1.72s\n",
      "251:\tlearn: 0.0552652\ttotal: 580ms\tremaining: 1.72s\n",
      "252:\tlearn: 0.0548577\ttotal: 582ms\tremaining: 1.72s\n",
      "253:\tlearn: 0.0543570\ttotal: 585ms\tremaining: 1.72s\n",
      "254:\tlearn: 0.0540088\ttotal: 587ms\tremaining: 1.72s\n",
      "255:\tlearn: 0.0537070\ttotal: 590ms\tremaining: 1.71s\n",
      "256:\tlearn: 0.0534185\ttotal: 592ms\tremaining: 1.71s\n",
      "257:\tlearn: 0.0530831\ttotal: 595ms\tremaining: 1.71s\n",
      "258:\tlearn: 0.0529192\ttotal: 598ms\tremaining: 1.71s\n",
      "259:\tlearn: 0.0526175\ttotal: 601ms\tremaining: 1.71s\n",
      "260:\tlearn: 0.0523203\ttotal: 604ms\tremaining: 1.71s\n",
      "261:\tlearn: 0.0520289\ttotal: 606ms\tremaining: 1.71s\n",
      "262:\tlearn: 0.0516368\ttotal: 608ms\tremaining: 1.7s\n",
      "263:\tlearn: 0.0513487\ttotal: 610ms\tremaining: 1.7s\n",
      "264:\tlearn: 0.0510331\ttotal: 613ms\tremaining: 1.7s\n",
      "265:\tlearn: 0.0507973\ttotal: 616ms\tremaining: 1.7s\n",
      "266:\tlearn: 0.0505457\ttotal: 618ms\tremaining: 1.7s\n",
      "267:\tlearn: 0.0502449\ttotal: 622ms\tremaining: 1.7s\n",
      "268:\tlearn: 0.0499691\ttotal: 625ms\tremaining: 1.7s\n",
      "269:\tlearn: 0.0497696\ttotal: 628ms\tremaining: 1.7s\n",
      "270:\tlearn: 0.0495042\ttotal: 630ms\tremaining: 1.7s\n",
      "271:\tlearn: 0.0491306\ttotal: 633ms\tremaining: 1.69s\n",
      "272:\tlearn: 0.0488649\ttotal: 636ms\tremaining: 1.69s\n",
      "273:\tlearn: 0.0485750\ttotal: 638ms\tremaining: 1.69s\n",
      "274:\tlearn: 0.0482477\ttotal: 641ms\tremaining: 1.69s\n",
      "275:\tlearn: 0.0479665\ttotal: 644ms\tremaining: 1.69s\n",
      "276:\tlearn: 0.0477505\ttotal: 647ms\tremaining: 1.69s\n",
      "277:\tlearn: 0.0475187\ttotal: 649ms\tremaining: 1.69s\n",
      "278:\tlearn: 0.0471526\ttotal: 652ms\tremaining: 1.68s\n",
      "279:\tlearn: 0.0468267\ttotal: 655ms\tremaining: 1.68s\n",
      "280:\tlearn: 0.0465251\ttotal: 658ms\tremaining: 1.68s\n",
      "281:\tlearn: 0.0461640\ttotal: 660ms\tremaining: 1.68s\n",
      "282:\tlearn: 0.0459069\ttotal: 663ms\tremaining: 1.68s\n",
      "283:\tlearn: 0.0456417\ttotal: 665ms\tremaining: 1.68s\n",
      "284:\tlearn: 0.0454219\ttotal: 668ms\tremaining: 1.68s\n",
      "285:\tlearn: 0.0450353\ttotal: 670ms\tremaining: 1.67s\n",
      "286:\tlearn: 0.0446580\ttotal: 673ms\tremaining: 1.67s\n",
      "287:\tlearn: 0.0443463\ttotal: 675ms\tremaining: 1.67s\n",
      "288:\tlearn: 0.0441224\ttotal: 678ms\tremaining: 1.67s\n",
      "289:\tlearn: 0.0438811\ttotal: 681ms\tremaining: 1.67s\n",
      "290:\tlearn: 0.0436331\ttotal: 684ms\tremaining: 1.67s\n",
      "291:\tlearn: 0.0433007\ttotal: 686ms\tremaining: 1.66s\n",
      "292:\tlearn: 0.0430706\ttotal: 689ms\tremaining: 1.66s\n",
      "293:\tlearn: 0.0427054\ttotal: 691ms\tremaining: 1.66s\n",
      "294:\tlearn: 0.0424566\ttotal: 693ms\tremaining: 1.66s\n",
      "295:\tlearn: 0.0421018\ttotal: 696ms\tremaining: 1.66s\n",
      "296:\tlearn: 0.0418431\ttotal: 699ms\tremaining: 1.65s\n",
      "297:\tlearn: 0.0415871\ttotal: 702ms\tremaining: 1.65s\n",
      "298:\tlearn: 0.0413433\ttotal: 704ms\tremaining: 1.65s\n",
      "299:\tlearn: 0.0410745\ttotal: 707ms\tremaining: 1.65s\n",
      "300:\tlearn: 0.0408496\ttotal: 710ms\tremaining: 1.65s\n",
      "301:\tlearn: 0.0405424\ttotal: 712ms\tremaining: 1.65s\n",
      "302:\tlearn: 0.0403507\ttotal: 715ms\tremaining: 1.65s\n",
      "303:\tlearn: 0.0400925\ttotal: 718ms\tremaining: 1.64s\n",
      "304:\tlearn: 0.0399008\ttotal: 720ms\tremaining: 1.64s\n",
      "305:\tlearn: 0.0396742\ttotal: 723ms\tremaining: 1.64s\n",
      "306:\tlearn: 0.0394647\ttotal: 726ms\tremaining: 1.64s\n",
      "307:\tlearn: 0.0392177\ttotal: 728ms\tremaining: 1.64s\n",
      "308:\tlearn: 0.0390060\ttotal: 731ms\tremaining: 1.63s\n",
      "309:\tlearn: 0.0387406\ttotal: 734ms\tremaining: 1.63s\n",
      "310:\tlearn: 0.0384737\ttotal: 736ms\tremaining: 1.63s\n",
      "311:\tlearn: 0.0382515\ttotal: 739ms\tremaining: 1.63s\n",
      "312:\tlearn: 0.0380025\ttotal: 741ms\tremaining: 1.63s\n",
      "313:\tlearn: 0.0377754\ttotal: 744ms\tremaining: 1.63s\n",
      "314:\tlearn: 0.0375875\ttotal: 747ms\tremaining: 1.62s\n",
      "315:\tlearn: 0.0373459\ttotal: 749ms\tremaining: 1.62s\n",
      "316:\tlearn: 0.0371261\ttotal: 751ms\tremaining: 1.62s\n",
      "317:\tlearn: 0.0370169\ttotal: 754ms\tremaining: 1.62s\n",
      "318:\tlearn: 0.0368020\ttotal: 756ms\tremaining: 1.61s\n",
      "319:\tlearn: 0.0366135\ttotal: 759ms\tremaining: 1.61s\n",
      "320:\tlearn: 0.0363971\ttotal: 761ms\tremaining: 1.61s\n",
      "321:\tlearn: 0.0362381\ttotal: 764ms\tremaining: 1.61s\n",
      "322:\tlearn: 0.0359722\ttotal: 766ms\tremaining: 1.61s\n",
      "323:\tlearn: 0.0357040\ttotal: 769ms\tremaining: 1.6s\n",
      "324:\tlearn: 0.0355648\ttotal: 772ms\tremaining: 1.6s\n",
      "325:\tlearn: 0.0353557\ttotal: 774ms\tremaining: 1.6s\n",
      "326:\tlearn: 0.0350911\ttotal: 777ms\tremaining: 1.6s\n",
      "327:\tlearn: 0.0349111\ttotal: 780ms\tremaining: 1.6s\n",
      "328:\tlearn: 0.0347952\ttotal: 782ms\tremaining: 1.59s\n",
      "329:\tlearn: 0.0345358\ttotal: 785ms\tremaining: 1.59s\n",
      "330:\tlearn: 0.0344021\ttotal: 787ms\tremaining: 1.59s\n",
      "331:\tlearn: 0.0342429\ttotal: 789ms\tremaining: 1.59s\n",
      "332:\tlearn: 0.0341128\ttotal: 792ms\tremaining: 1.59s\n",
      "333:\tlearn: 0.0339497\ttotal: 794ms\tremaining: 1.58s\n",
      "334:\tlearn: 0.0337649\ttotal: 797ms\tremaining: 1.58s\n",
      "335:\tlearn: 0.0336368\ttotal: 800ms\tremaining: 1.58s\n",
      "336:\tlearn: 0.0334273\ttotal: 802ms\tremaining: 1.58s\n",
      "337:\tlearn: 0.0332922\ttotal: 804ms\tremaining: 1.57s\n",
      "338:\tlearn: 0.0331737\ttotal: 808ms\tremaining: 1.57s\n",
      "339:\tlearn: 0.0330581\ttotal: 811ms\tremaining: 1.57s\n",
      "340:\tlearn: 0.0328710\ttotal: 814ms\tremaining: 1.57s\n",
      "341:\tlearn: 0.0327417\ttotal: 817ms\tremaining: 1.57s\n",
      "342:\tlearn: 0.0325579\ttotal: 821ms\tremaining: 1.57s\n",
      "343:\tlearn: 0.0324222\ttotal: 824ms\tremaining: 1.57s\n",
      "344:\tlearn: 0.0322763\ttotal: 827ms\tremaining: 1.57s\n",
      "345:\tlearn: 0.0320254\ttotal: 829ms\tremaining: 1.57s\n",
      "346:\tlearn: 0.0319131\ttotal: 832ms\tremaining: 1.56s\n",
      "347:\tlearn: 0.0317367\ttotal: 834ms\tremaining: 1.56s\n",
      "348:\tlearn: 0.0315526\ttotal: 837ms\tremaining: 1.56s\n",
      "349:\tlearn: 0.0314049\ttotal: 839ms\tremaining: 1.56s\n",
      "350:\tlearn: 0.0312922\ttotal: 842ms\tremaining: 1.56s\n",
      "351:\tlearn: 0.0311453\ttotal: 844ms\tremaining: 1.55s\n",
      "352:\tlearn: 0.0310158\ttotal: 847ms\tremaining: 1.55s\n",
      "353:\tlearn: 0.0308462\ttotal: 849ms\tremaining: 1.55s\n",
      "354:\tlearn: 0.0306774\ttotal: 852ms\tremaining: 1.55s\n",
      "355:\tlearn: 0.0305681\ttotal: 854ms\tremaining: 1.54s\n",
      "356:\tlearn: 0.0303748\ttotal: 857ms\tremaining: 1.54s\n",
      "357:\tlearn: 0.0302020\ttotal: 860ms\tremaining: 1.54s\n",
      "358:\tlearn: 0.0300862\ttotal: 863ms\tremaining: 1.54s\n",
      "359:\tlearn: 0.0299789\ttotal: 865ms\tremaining: 1.54s\n",
      "360:\tlearn: 0.0298025\ttotal: 867ms\tremaining: 1.53s\n",
      "361:\tlearn: 0.0296530\ttotal: 870ms\tremaining: 1.53s\n",
      "362:\tlearn: 0.0295382\ttotal: 872ms\tremaining: 1.53s\n",
      "363:\tlearn: 0.0293391\ttotal: 875ms\tremaining: 1.53s\n",
      "364:\tlearn: 0.0291968\ttotal: 878ms\tremaining: 1.53s\n",
      "365:\tlearn: 0.0290047\ttotal: 880ms\tremaining: 1.52s\n",
      "366:\tlearn: 0.0289045\ttotal: 883ms\tremaining: 1.52s\n",
      "367:\tlearn: 0.0287594\ttotal: 886ms\tremaining: 1.52s\n",
      "368:\tlearn: 0.0286585\ttotal: 889ms\tremaining: 1.52s\n",
      "369:\tlearn: 0.0285285\ttotal: 891ms\tremaining: 1.52s\n",
      "370:\tlearn: 0.0284302\ttotal: 894ms\tremaining: 1.52s\n",
      "371:\tlearn: 0.0282636\ttotal: 897ms\tremaining: 1.51s\n",
      "372:\tlearn: 0.0280671\ttotal: 899ms\tremaining: 1.51s\n",
      "373:\tlearn: 0.0279820\ttotal: 902ms\tremaining: 1.51s\n",
      "374:\tlearn: 0.0278477\ttotal: 905ms\tremaining: 1.51s\n",
      "375:\tlearn: 0.0277164\ttotal: 907ms\tremaining: 1.5s\n",
      "376:\tlearn: 0.0276136\ttotal: 910ms\tremaining: 1.5s\n",
      "377:\tlearn: 0.0274838\ttotal: 912ms\tremaining: 1.5s\n",
      "378:\tlearn: 0.0273646\ttotal: 915ms\tremaining: 1.5s\n",
      "379:\tlearn: 0.0272626\ttotal: 918ms\tremaining: 1.5s\n",
      "380:\tlearn: 0.0271471\ttotal: 920ms\tremaining: 1.5s\n",
      "381:\tlearn: 0.0270039\ttotal: 923ms\tremaining: 1.49s\n",
      "382:\tlearn: 0.0268539\ttotal: 926ms\tremaining: 1.49s\n",
      "383:\tlearn: 0.0266776\ttotal: 928ms\tremaining: 1.49s\n",
      "384:\tlearn: 0.0265701\ttotal: 931ms\tremaining: 1.49s\n"
     ]
    },
    {
     "name": "stdout",
     "output_type": "stream",
     "text": [
      "385:\tlearn: 0.0264505\ttotal: 934ms\tremaining: 1.49s\n",
      "386:\tlearn: 0.0263609\ttotal: 937ms\tremaining: 1.48s\n",
      "387:\tlearn: 0.0262711\ttotal: 940ms\tremaining: 1.48s\n",
      "388:\tlearn: 0.0261320\ttotal: 943ms\tremaining: 1.48s\n",
      "389:\tlearn: 0.0260000\ttotal: 947ms\tremaining: 1.48s\n",
      "390:\tlearn: 0.0259001\ttotal: 950ms\tremaining: 1.48s\n",
      "391:\tlearn: 0.0257916\ttotal: 953ms\tremaining: 1.48s\n",
      "392:\tlearn: 0.0256616\ttotal: 956ms\tremaining: 1.48s\n",
      "393:\tlearn: 0.0255397\ttotal: 959ms\tremaining: 1.47s\n",
      "394:\tlearn: 0.0254135\ttotal: 961ms\tremaining: 1.47s\n",
      "395:\tlearn: 0.0253423\ttotal: 964ms\tremaining: 1.47s\n",
      "396:\tlearn: 0.0252505\ttotal: 966ms\tremaining: 1.47s\n",
      "397:\tlearn: 0.0251002\ttotal: 969ms\tremaining: 1.47s\n",
      "398:\tlearn: 0.0249578\ttotal: 972ms\tremaining: 1.46s\n",
      "399:\tlearn: 0.0248805\ttotal: 974ms\tremaining: 1.46s\n",
      "400:\tlearn: 0.0247778\ttotal: 977ms\tremaining: 1.46s\n",
      "401:\tlearn: 0.0246579\ttotal: 980ms\tremaining: 1.46s\n",
      "402:\tlearn: 0.0245402\ttotal: 982ms\tremaining: 1.46s\n",
      "403:\tlearn: 0.0243816\ttotal: 984ms\tremaining: 1.45s\n",
      "404:\tlearn: 0.0242718\ttotal: 987ms\tremaining: 1.45s\n",
      "405:\tlearn: 0.0241692\ttotal: 989ms\tremaining: 1.45s\n",
      "406:\tlearn: 0.0240915\ttotal: 991ms\tremaining: 1.44s\n",
      "407:\tlearn: 0.0240179\ttotal: 994ms\tremaining: 1.44s\n",
      "408:\tlearn: 0.0239167\ttotal: 996ms\tremaining: 1.44s\n",
      "409:\tlearn: 0.0238143\ttotal: 999ms\tremaining: 1.44s\n",
      "410:\tlearn: 0.0237163\ttotal: 1s\tremaining: 1.43s\n",
      "411:\tlearn: 0.0236571\ttotal: 1s\tremaining: 1.43s\n",
      "412:\tlearn: 0.0235347\ttotal: 1.01s\tremaining: 1.43s\n",
      "413:\tlearn: 0.0234405\ttotal: 1.01s\tremaining: 1.43s\n",
      "414:\tlearn: 0.0233451\ttotal: 1.01s\tremaining: 1.43s\n",
      "415:\tlearn: 0.0232425\ttotal: 1.01s\tremaining: 1.42s\n",
      "416:\tlearn: 0.0231671\ttotal: 1.02s\tremaining: 1.42s\n",
      "417:\tlearn: 0.0230703\ttotal: 1.02s\tremaining: 1.42s\n",
      "418:\tlearn: 0.0229563\ttotal: 1.02s\tremaining: 1.42s\n",
      "419:\tlearn: 0.0228655\ttotal: 1.02s\tremaining: 1.41s\n",
      "420:\tlearn: 0.0227558\ttotal: 1.02s\tremaining: 1.41s\n",
      "421:\tlearn: 0.0226513\ttotal: 1.03s\tremaining: 1.41s\n",
      "422:\tlearn: 0.0225193\ttotal: 1.03s\tremaining: 1.41s\n",
      "423:\tlearn: 0.0224256\ttotal: 1.03s\tremaining: 1.4s\n",
      "424:\tlearn: 0.0223555\ttotal: 1.04s\tremaining: 1.4s\n",
      "425:\tlearn: 0.0223040\ttotal: 1.04s\tremaining: 1.4s\n",
      "426:\tlearn: 0.0222258\ttotal: 1.04s\tremaining: 1.4s\n",
      "427:\tlearn: 0.0221409\ttotal: 1.04s\tremaining: 1.4s\n",
      "428:\tlearn: 0.0220155\ttotal: 1.05s\tremaining: 1.39s\n",
      "429:\tlearn: 0.0219600\ttotal: 1.05s\tremaining: 1.39s\n",
      "430:\tlearn: 0.0218664\ttotal: 1.05s\tremaining: 1.39s\n",
      "431:\tlearn: 0.0218017\ttotal: 1.06s\tremaining: 1.39s\n",
      "432:\tlearn: 0.0217132\ttotal: 1.06s\tremaining: 1.39s\n",
      "433:\tlearn: 0.0216326\ttotal: 1.06s\tremaining: 1.38s\n",
      "434:\tlearn: 0.0215684\ttotal: 1.06s\tremaining: 1.38s\n",
      "435:\tlearn: 0.0214678\ttotal: 1.07s\tremaining: 1.38s\n",
      "436:\tlearn: 0.0214145\ttotal: 1.07s\tremaining: 1.38s\n",
      "437:\tlearn: 0.0213011\ttotal: 1.07s\tremaining: 1.38s\n",
      "438:\tlearn: 0.0212269\ttotal: 1.07s\tremaining: 1.37s\n",
      "439:\tlearn: 0.0211120\ttotal: 1.08s\tremaining: 1.37s\n",
      "440:\tlearn: 0.0210479\ttotal: 1.08s\tremaining: 1.37s\n",
      "441:\tlearn: 0.0210001\ttotal: 1.08s\tremaining: 1.36s\n",
      "442:\tlearn: 0.0209258\ttotal: 1.08s\tremaining: 1.36s\n",
      "443:\tlearn: 0.0208704\ttotal: 1.09s\tremaining: 1.36s\n",
      "444:\tlearn: 0.0208161\ttotal: 1.09s\tremaining: 1.36s\n",
      "445:\tlearn: 0.0207627\ttotal: 1.09s\tremaining: 1.36s\n",
      "446:\tlearn: 0.0206813\ttotal: 1.1s\tremaining: 1.36s\n",
      "447:\tlearn: 0.0206079\ttotal: 1.1s\tremaining: 1.36s\n",
      "448:\tlearn: 0.0205309\ttotal: 1.1s\tremaining: 1.35s\n",
      "449:\tlearn: 0.0204031\ttotal: 1.1s\tremaining: 1.35s\n",
      "450:\tlearn: 0.0203394\ttotal: 1.11s\tremaining: 1.35s\n",
      "451:\tlearn: 0.0202687\ttotal: 1.11s\tremaining: 1.35s\n",
      "452:\tlearn: 0.0201845\ttotal: 1.11s\tremaining: 1.34s\n",
      "453:\tlearn: 0.0200941\ttotal: 1.11s\tremaining: 1.34s\n",
      "454:\tlearn: 0.0200343\ttotal: 1.12s\tremaining: 1.34s\n",
      "455:\tlearn: 0.0199752\ttotal: 1.12s\tremaining: 1.33s\n",
      "456:\tlearn: 0.0199039\ttotal: 1.12s\tremaining: 1.33s\n",
      "457:\tlearn: 0.0198288\ttotal: 1.12s\tremaining: 1.33s\n",
      "458:\tlearn: 0.0197615\ttotal: 1.12s\tremaining: 1.32s\n",
      "459:\tlearn: 0.0196806\ttotal: 1.13s\tremaining: 1.32s\n",
      "460:\tlearn: 0.0196152\ttotal: 1.13s\tremaining: 1.32s\n",
      "461:\tlearn: 0.0195330\ttotal: 1.13s\tremaining: 1.32s\n",
      "462:\tlearn: 0.0194543\ttotal: 1.13s\tremaining: 1.31s\n",
      "463:\tlearn: 0.0193926\ttotal: 1.13s\tremaining: 1.31s\n",
      "464:\tlearn: 0.0193431\ttotal: 1.13s\tremaining: 1.3s\n",
      "465:\tlearn: 0.0192635\ttotal: 1.13s\tremaining: 1.3s\n",
      "466:\tlearn: 0.0192175\ttotal: 1.14s\tremaining: 1.3s\n",
      "467:\tlearn: 0.0191728\ttotal: 1.14s\tremaining: 1.29s\n",
      "468:\tlearn: 0.0191300\ttotal: 1.14s\tremaining: 1.29s\n",
      "469:\tlearn: 0.0190348\ttotal: 1.14s\tremaining: 1.28s\n",
      "470:\tlearn: 0.0189588\ttotal: 1.14s\tremaining: 1.28s\n",
      "471:\tlearn: 0.0188875\ttotal: 1.14s\tremaining: 1.28s\n",
      "472:\tlearn: 0.0188213\ttotal: 1.14s\tremaining: 1.27s\n",
      "473:\tlearn: 0.0187276\ttotal: 1.14s\tremaining: 1.27s\n",
      "474:\tlearn: 0.0186590\ttotal: 1.15s\tremaining: 1.27s\n",
      "475:\tlearn: 0.0185990\ttotal: 1.15s\tremaining: 1.26s\n",
      "476:\tlearn: 0.0185366\ttotal: 1.15s\tremaining: 1.26s\n",
      "477:\tlearn: 0.0184710\ttotal: 1.15s\tremaining: 1.25s\n",
      "478:\tlearn: 0.0183929\ttotal: 1.15s\tremaining: 1.25s\n",
      "479:\tlearn: 0.0183406\ttotal: 1.15s\tremaining: 1.25s\n",
      "480:\tlearn: 0.0182685\ttotal: 1.15s\tremaining: 1.25s\n",
      "481:\tlearn: 0.0181506\ttotal: 1.16s\tremaining: 1.24s\n",
      "482:\tlearn: 0.0181024\ttotal: 1.16s\tremaining: 1.24s\n",
      "483:\tlearn: 0.0180263\ttotal: 1.16s\tremaining: 1.24s\n",
      "484:\tlearn: 0.0179445\ttotal: 1.16s\tremaining: 1.24s\n",
      "485:\tlearn: 0.0179019\ttotal: 1.17s\tremaining: 1.23s\n",
      "486:\tlearn: 0.0178507\ttotal: 1.17s\tremaining: 1.23s\n",
      "487:\tlearn: 0.0177945\ttotal: 1.17s\tremaining: 1.23s\n",
      "488:\tlearn: 0.0177257\ttotal: 1.17s\tremaining: 1.23s\n",
      "489:\tlearn: 0.0176739\ttotal: 1.18s\tremaining: 1.22s\n",
      "490:\tlearn: 0.0176109\ttotal: 1.18s\tremaining: 1.22s\n",
      "491:\tlearn: 0.0175390\ttotal: 1.18s\tremaining: 1.22s\n",
      "492:\tlearn: 0.0174790\ttotal: 1.18s\tremaining: 1.21s\n",
      "493:\tlearn: 0.0173975\ttotal: 1.18s\tremaining: 1.21s\n",
      "494:\tlearn: 0.0173193\ttotal: 1.19s\tremaining: 1.21s\n",
      "495:\tlearn: 0.0172235\ttotal: 1.19s\tremaining: 1.21s\n",
      "496:\tlearn: 0.0171397\ttotal: 1.19s\tremaining: 1.2s\n",
      "497:\tlearn: 0.0170928\ttotal: 1.19s\tremaining: 1.2s\n",
      "498:\tlearn: 0.0170529\ttotal: 1.2s\tremaining: 1.2s\n",
      "499:\tlearn: 0.0170090\ttotal: 1.2s\tremaining: 1.2s\n",
      "500:\tlearn: 0.0169538\ttotal: 1.2s\tremaining: 1.2s\n",
      "501:\tlearn: 0.0169181\ttotal: 1.2s\tremaining: 1.19s\n",
      "502:\tlearn: 0.0168650\ttotal: 1.21s\tremaining: 1.19s\n",
      "503:\tlearn: 0.0168179\ttotal: 1.21s\tremaining: 1.19s\n",
      "504:\tlearn: 0.0167397\ttotal: 1.21s\tremaining: 1.19s\n",
      "505:\tlearn: 0.0166535\ttotal: 1.21s\tremaining: 1.18s\n",
      "506:\tlearn: 0.0165724\ttotal: 1.22s\tremaining: 1.18s\n",
      "507:\tlearn: 0.0165328\ttotal: 1.22s\tremaining: 1.18s\n",
      "508:\tlearn: 0.0164992\ttotal: 1.22s\tremaining: 1.18s\n",
      "509:\tlearn: 0.0164302\ttotal: 1.23s\tremaining: 1.18s\n",
      "510:\tlearn: 0.0163711\ttotal: 1.23s\tremaining: 1.18s\n",
      "511:\tlearn: 0.0163158\ttotal: 1.23s\tremaining: 1.17s\n",
      "512:\tlearn: 0.0162534\ttotal: 1.23s\tremaining: 1.17s\n",
      "513:\tlearn: 0.0162061\ttotal: 1.24s\tremaining: 1.17s\n",
      "514:\tlearn: 0.0161606\ttotal: 1.24s\tremaining: 1.17s\n",
      "515:\tlearn: 0.0161060\ttotal: 1.24s\tremaining: 1.16s\n",
      "516:\tlearn: 0.0160442\ttotal: 1.24s\tremaining: 1.16s\n",
      "517:\tlearn: 0.0159752\ttotal: 1.25s\tremaining: 1.16s\n",
      "518:\tlearn: 0.0159332\ttotal: 1.25s\tremaining: 1.16s\n",
      "519:\tlearn: 0.0158726\ttotal: 1.25s\tremaining: 1.16s\n",
      "520:\tlearn: 0.0158367\ttotal: 1.25s\tremaining: 1.15s\n",
      "521:\tlearn: 0.0157595\ttotal: 1.26s\tremaining: 1.15s\n",
      "522:\tlearn: 0.0157017\ttotal: 1.26s\tremaining: 1.15s\n",
      "523:\tlearn: 0.0156402\ttotal: 1.26s\tremaining: 1.15s\n",
      "524:\tlearn: 0.0155934\ttotal: 1.26s\tremaining: 1.14s\n",
      "525:\tlearn: 0.0155578\ttotal: 1.27s\tremaining: 1.14s\n",
      "526:\tlearn: 0.0155178\ttotal: 1.27s\tremaining: 1.14s\n",
      "527:\tlearn: 0.0154666\ttotal: 1.27s\tremaining: 1.14s\n",
      "528:\tlearn: 0.0154331\ttotal: 1.27s\tremaining: 1.14s\n",
      "529:\tlearn: 0.0153935\ttotal: 1.28s\tremaining: 1.13s\n",
      "530:\tlearn: 0.0153546\ttotal: 1.28s\tremaining: 1.13s\n",
      "531:\tlearn: 0.0153026\ttotal: 1.28s\tremaining: 1.13s\n",
      "532:\tlearn: 0.0152191\ttotal: 1.28s\tremaining: 1.13s\n",
      "533:\tlearn: 0.0151596\ttotal: 1.29s\tremaining: 1.12s\n",
      "534:\tlearn: 0.0151105\ttotal: 1.29s\tremaining: 1.12s\n",
      "535:\tlearn: 0.0150802\ttotal: 1.29s\tremaining: 1.12s\n",
      "536:\tlearn: 0.0150332\ttotal: 1.3s\tremaining: 1.12s\n",
      "537:\tlearn: 0.0149833\ttotal: 1.3s\tremaining: 1.11s\n",
      "538:\tlearn: 0.0149185\ttotal: 1.3s\tremaining: 1.11s\n",
      "539:\tlearn: 0.0148779\ttotal: 1.3s\tremaining: 1.11s\n",
      "540:\tlearn: 0.0148356\ttotal: 1.31s\tremaining: 1.11s\n",
      "541:\tlearn: 0.0147877\ttotal: 1.31s\tremaining: 1.11s\n",
      "542:\tlearn: 0.0147511\ttotal: 1.31s\tremaining: 1.1s\n",
      "543:\tlearn: 0.0147132\ttotal: 1.31s\tremaining: 1.1s\n",
      "544:\tlearn: 0.0146804\ttotal: 1.32s\tremaining: 1.1s\n",
      "545:\tlearn: 0.0146520\ttotal: 1.32s\tremaining: 1.1s\n",
      "546:\tlearn: 0.0146084\ttotal: 1.32s\tremaining: 1.09s\n",
      "547:\tlearn: 0.0145737\ttotal: 1.33s\tremaining: 1.09s\n",
      "548:\tlearn: 0.0145363\ttotal: 1.33s\tremaining: 1.09s\n",
      "549:\tlearn: 0.0144997\ttotal: 1.33s\tremaining: 1.09s\n",
      "550:\tlearn: 0.0144363\ttotal: 1.33s\tremaining: 1.09s\n",
      "551:\tlearn: 0.0143912\ttotal: 1.34s\tremaining: 1.08s\n",
      "552:\tlearn: 0.0143509\ttotal: 1.34s\tremaining: 1.08s\n",
      "553:\tlearn: 0.0143132\ttotal: 1.34s\tremaining: 1.08s\n",
      "554:\tlearn: 0.0142936\ttotal: 1.35s\tremaining: 1.08s\n",
      "555:\tlearn: 0.0142619\ttotal: 1.35s\tremaining: 1.08s\n",
      "556:\tlearn: 0.0142253\ttotal: 1.35s\tremaining: 1.07s\n",
      "557:\tlearn: 0.0141684\ttotal: 1.35s\tremaining: 1.07s\n",
      "558:\tlearn: 0.0141273\ttotal: 1.36s\tremaining: 1.07s\n",
      "559:\tlearn: 0.0140856\ttotal: 1.36s\tremaining: 1.07s\n",
      "560:\tlearn: 0.0140285\ttotal: 1.36s\tremaining: 1.06s\n",
      "561:\tlearn: 0.0139978\ttotal: 1.36s\tremaining: 1.06s\n",
      "562:\tlearn: 0.0139503\ttotal: 1.37s\tremaining: 1.06s\n",
      "563:\tlearn: 0.0139138\ttotal: 1.37s\tremaining: 1.06s\n",
      "564:\tlearn: 0.0138645\ttotal: 1.37s\tremaining: 1.05s\n",
      "565:\tlearn: 0.0138226\ttotal: 1.37s\tremaining: 1.05s\n",
      "566:\tlearn: 0.0137681\ttotal: 1.38s\tremaining: 1.05s\n",
      "567:\tlearn: 0.0137202\ttotal: 1.38s\tremaining: 1.05s\n",
      "568:\tlearn: 0.0136915\ttotal: 1.38s\tremaining: 1.05s\n",
      "569:\tlearn: 0.0136365\ttotal: 1.38s\tremaining: 1.04s\n",
      "570:\tlearn: 0.0136089\ttotal: 1.39s\tremaining: 1.04s\n",
      "571:\tlearn: 0.0135661\ttotal: 1.39s\tremaining: 1.04s\n",
      "572:\tlearn: 0.0135375\ttotal: 1.39s\tremaining: 1.04s\n",
      "573:\tlearn: 0.0135017\ttotal: 1.39s\tremaining: 1.03s\n",
      "574:\tlearn: 0.0134603\ttotal: 1.4s\tremaining: 1.03s\n",
      "575:\tlearn: 0.0134166\ttotal: 1.4s\tremaining: 1.03s\n"
     ]
    },
    {
     "name": "stdout",
     "output_type": "stream",
     "text": [
      "576:\tlearn: 0.0133827\ttotal: 1.4s\tremaining: 1.03s\n",
      "577:\tlearn: 0.0133500\ttotal: 1.41s\tremaining: 1.03s\n",
      "578:\tlearn: 0.0133140\ttotal: 1.41s\tremaining: 1.02s\n",
      "579:\tlearn: 0.0132770\ttotal: 1.41s\tremaining: 1.02s\n",
      "580:\tlearn: 0.0132357\ttotal: 1.41s\tremaining: 1.02s\n",
      "581:\tlearn: 0.0131878\ttotal: 1.42s\tremaining: 1.02s\n",
      "582:\tlearn: 0.0131531\ttotal: 1.42s\tremaining: 1.01s\n",
      "583:\tlearn: 0.0131229\ttotal: 1.42s\tremaining: 1.01s\n",
      "584:\tlearn: 0.0130859\ttotal: 1.42s\tremaining: 1.01s\n",
      "585:\tlearn: 0.0130528\ttotal: 1.43s\tremaining: 1.01s\n",
      "586:\tlearn: 0.0130172\ttotal: 1.43s\tremaining: 1s\n",
      "587:\tlearn: 0.0129796\ttotal: 1.43s\tremaining: 1s\n",
      "588:\tlearn: 0.0129526\ttotal: 1.43s\tremaining: 1s\n",
      "589:\tlearn: 0.0129007\ttotal: 1.44s\tremaining: 998ms\n",
      "590:\tlearn: 0.0128465\ttotal: 1.44s\tremaining: 996ms\n",
      "591:\tlearn: 0.0127885\ttotal: 1.44s\tremaining: 993ms\n",
      "592:\tlearn: 0.0127591\ttotal: 1.44s\tremaining: 991ms\n",
      "593:\tlearn: 0.0127242\ttotal: 1.45s\tremaining: 989ms\n",
      "594:\tlearn: 0.0126817\ttotal: 1.45s\tremaining: 986ms\n",
      "595:\tlearn: 0.0126220\ttotal: 1.45s\tremaining: 984ms\n",
      "596:\tlearn: 0.0125848\ttotal: 1.45s\tremaining: 981ms\n",
      "597:\tlearn: 0.0125548\ttotal: 1.46s\tremaining: 979ms\n",
      "598:\tlearn: 0.0125251\ttotal: 1.46s\tremaining: 977ms\n",
      "599:\tlearn: 0.0124940\ttotal: 1.46s\tremaining: 975ms\n",
      "600:\tlearn: 0.0124654\ttotal: 1.46s\tremaining: 972ms\n",
      "601:\tlearn: 0.0124441\ttotal: 1.47s\tremaining: 970ms\n",
      "602:\tlearn: 0.0124104\ttotal: 1.47s\tremaining: 967ms\n",
      "603:\tlearn: 0.0123581\ttotal: 1.47s\tremaining: 965ms\n",
      "604:\tlearn: 0.0123031\ttotal: 1.47s\tremaining: 962ms\n",
      "605:\tlearn: 0.0122810\ttotal: 1.48s\tremaining: 960ms\n",
      "606:\tlearn: 0.0122513\ttotal: 1.48s\tremaining: 958ms\n",
      "607:\tlearn: 0.0122071\ttotal: 1.48s\tremaining: 955ms\n",
      "608:\tlearn: 0.0121692\ttotal: 1.48s\tremaining: 953ms\n",
      "609:\tlearn: 0.0121184\ttotal: 1.49s\tremaining: 951ms\n",
      "610:\tlearn: 0.0120594\ttotal: 1.49s\tremaining: 948ms\n",
      "611:\tlearn: 0.0120266\ttotal: 1.49s\tremaining: 945ms\n",
      "612:\tlearn: 0.0119826\ttotal: 1.49s\tremaining: 943ms\n",
      "613:\tlearn: 0.0119554\ttotal: 1.5s\tremaining: 940ms\n",
      "614:\tlearn: 0.0119283\ttotal: 1.5s\tremaining: 938ms\n",
      "615:\tlearn: 0.0118897\ttotal: 1.5s\tremaining: 936ms\n",
      "616:\tlearn: 0.0118671\ttotal: 1.5s\tremaining: 933ms\n",
      "617:\tlearn: 0.0118295\ttotal: 1.5s\tremaining: 931ms\n",
      "618:\tlearn: 0.0117951\ttotal: 1.51s\tremaining: 928ms\n",
      "619:\tlearn: 0.0117437\ttotal: 1.51s\tremaining: 926ms\n",
      "620:\tlearn: 0.0117060\ttotal: 1.51s\tremaining: 923ms\n",
      "621:\tlearn: 0.0116706\ttotal: 1.51s\tremaining: 921ms\n",
      "622:\tlearn: 0.0116382\ttotal: 1.52s\tremaining: 919ms\n",
      "623:\tlearn: 0.0116122\ttotal: 1.52s\tremaining: 916ms\n",
      "624:\tlearn: 0.0115838\ttotal: 1.52s\tremaining: 913ms\n",
      "625:\tlearn: 0.0115576\ttotal: 1.52s\tremaining: 910ms\n",
      "626:\tlearn: 0.0115254\ttotal: 1.52s\tremaining: 908ms\n",
      "627:\tlearn: 0.0115033\ttotal: 1.53s\tremaining: 905ms\n",
      "628:\tlearn: 0.0114771\ttotal: 1.53s\tremaining: 902ms\n",
      "629:\tlearn: 0.0114461\ttotal: 1.53s\tremaining: 899ms\n",
      "630:\tlearn: 0.0114124\ttotal: 1.53s\tremaining: 897ms\n",
      "631:\tlearn: 0.0113876\ttotal: 1.53s\tremaining: 894ms\n",
      "632:\tlearn: 0.0113658\ttotal: 1.54s\tremaining: 892ms\n",
      "633:\tlearn: 0.0113258\ttotal: 1.54s\tremaining: 889ms\n",
      "634:\tlearn: 0.0113007\ttotal: 1.54s\tremaining: 887ms\n",
      "635:\tlearn: 0.0112798\ttotal: 1.54s\tremaining: 884ms\n",
      "636:\tlearn: 0.0112580\ttotal: 1.55s\tremaining: 881ms\n",
      "637:\tlearn: 0.0112198\ttotal: 1.55s\tremaining: 878ms\n",
      "638:\tlearn: 0.0111859\ttotal: 1.55s\tremaining: 876ms\n",
      "639:\tlearn: 0.0111598\ttotal: 1.55s\tremaining: 873ms\n",
      "640:\tlearn: 0.0111325\ttotal: 1.55s\tremaining: 871ms\n",
      "641:\tlearn: 0.0110965\ttotal: 1.56s\tremaining: 868ms\n",
      "642:\tlearn: 0.0110696\ttotal: 1.56s\tremaining: 865ms\n",
      "643:\tlearn: 0.0110417\ttotal: 1.56s\tremaining: 863ms\n",
      "644:\tlearn: 0.0110168\ttotal: 1.56s\tremaining: 860ms\n",
      "645:\tlearn: 0.0109845\ttotal: 1.56s\tremaining: 857ms\n",
      "646:\tlearn: 0.0109445\ttotal: 1.57s\tremaining: 855ms\n",
      "647:\tlearn: 0.0109086\ttotal: 1.57s\tremaining: 852ms\n",
      "648:\tlearn: 0.0108627\ttotal: 1.57s\tremaining: 849ms\n",
      "649:\tlearn: 0.0108283\ttotal: 1.57s\tremaining: 846ms\n",
      "650:\tlearn: 0.0108043\ttotal: 1.57s\tremaining: 844ms\n",
      "651:\tlearn: 0.0107733\ttotal: 1.57s\tremaining: 841ms\n",
      "652:\tlearn: 0.0107418\ttotal: 1.58s\tremaining: 838ms\n",
      "653:\tlearn: 0.0107058\ttotal: 1.58s\tremaining: 835ms\n",
      "654:\tlearn: 0.0106856\ttotal: 1.58s\tremaining: 833ms\n",
      "655:\tlearn: 0.0106444\ttotal: 1.58s\tremaining: 830ms\n",
      "656:\tlearn: 0.0105964\ttotal: 1.58s\tremaining: 827ms\n",
      "657:\tlearn: 0.0105715\ttotal: 1.59s\tremaining: 825ms\n",
      "658:\tlearn: 0.0105421\ttotal: 1.59s\tremaining: 822ms\n",
      "659:\tlearn: 0.0105227\ttotal: 1.59s\tremaining: 819ms\n",
      "660:\tlearn: 0.0104990\ttotal: 1.59s\tremaining: 817ms\n",
      "661:\tlearn: 0.0104709\ttotal: 1.59s\tremaining: 814ms\n",
      "662:\tlearn: 0.0104355\ttotal: 1.6s\tremaining: 811ms\n",
      "663:\tlearn: 0.0104014\ttotal: 1.6s\tremaining: 809ms\n",
      "664:\tlearn: 0.0103646\ttotal: 1.6s\tremaining: 806ms\n",
      "665:\tlearn: 0.0103310\ttotal: 1.6s\tremaining: 804ms\n",
      "666:\tlearn: 0.0103058\ttotal: 1.6s\tremaining: 801ms\n",
      "667:\tlearn: 0.0102836\ttotal: 1.61s\tremaining: 798ms\n",
      "668:\tlearn: 0.0102584\ttotal: 1.61s\tremaining: 796ms\n",
      "669:\tlearn: 0.0102417\ttotal: 1.61s\tremaining: 793ms\n",
      "670:\tlearn: 0.0102088\ttotal: 1.61s\tremaining: 790ms\n",
      "671:\tlearn: 0.0101743\ttotal: 1.61s\tremaining: 787ms\n",
      "672:\tlearn: 0.0101371\ttotal: 1.61s\tremaining: 785ms\n",
      "673:\tlearn: 0.0101057\ttotal: 1.62s\tremaining: 783ms\n",
      "674:\tlearn: 0.0100841\ttotal: 1.62s\tremaining: 780ms\n",
      "675:\tlearn: 0.0100689\ttotal: 1.62s\tremaining: 778ms\n",
      "676:\tlearn: 0.0100429\ttotal: 1.63s\tremaining: 776ms\n",
      "677:\tlearn: 0.0100200\ttotal: 1.63s\tremaining: 773ms\n",
      "678:\tlearn: 0.0100032\ttotal: 1.63s\tremaining: 771ms\n",
      "679:\tlearn: 0.0099779\ttotal: 1.63s\tremaining: 769ms\n",
      "680:\tlearn: 0.0099581\ttotal: 1.64s\tremaining: 767ms\n",
      "681:\tlearn: 0.0099386\ttotal: 1.64s\tremaining: 765ms\n",
      "682:\tlearn: 0.0099171\ttotal: 1.64s\tremaining: 762ms\n",
      "683:\tlearn: 0.0098960\ttotal: 1.64s\tremaining: 760ms\n",
      "684:\tlearn: 0.0098655\ttotal: 1.65s\tremaining: 757ms\n",
      "685:\tlearn: 0.0098490\ttotal: 1.65s\tremaining: 755ms\n",
      "686:\tlearn: 0.0098340\ttotal: 1.65s\tremaining: 752ms\n",
      "687:\tlearn: 0.0098078\ttotal: 1.65s\tremaining: 750ms\n",
      "688:\tlearn: 0.0097899\ttotal: 1.66s\tremaining: 747ms\n",
      "689:\tlearn: 0.0097666\ttotal: 1.66s\tremaining: 745ms\n",
      "690:\tlearn: 0.0097390\ttotal: 1.66s\tremaining: 742ms\n",
      "691:\tlearn: 0.0097178\ttotal: 1.66s\tremaining: 740ms\n",
      "692:\tlearn: 0.0097020\ttotal: 1.67s\tremaining: 738ms\n",
      "693:\tlearn: 0.0096836\ttotal: 1.67s\tremaining: 735ms\n",
      "694:\tlearn: 0.0096695\ttotal: 1.67s\tremaining: 733ms\n",
      "695:\tlearn: 0.0096482\ttotal: 1.67s\tremaining: 731ms\n",
      "696:\tlearn: 0.0096292\ttotal: 1.68s\tremaining: 728ms\n",
      "697:\tlearn: 0.0096073\ttotal: 1.68s\tremaining: 726ms\n",
      "698:\tlearn: 0.0095920\ttotal: 1.68s\tremaining: 724ms\n",
      "699:\tlearn: 0.0095782\ttotal: 1.68s\tremaining: 721ms\n",
      "700:\tlearn: 0.0095590\ttotal: 1.69s\tremaining: 719ms\n",
      "701:\tlearn: 0.0095433\ttotal: 1.69s\tremaining: 717ms\n",
      "702:\tlearn: 0.0095231\ttotal: 1.69s\tremaining: 714ms\n",
      "703:\tlearn: 0.0094996\ttotal: 1.69s\tremaining: 712ms\n",
      "704:\tlearn: 0.0094833\ttotal: 1.7s\tremaining: 710ms\n",
      "705:\tlearn: 0.0094625\ttotal: 1.7s\tremaining: 707ms\n",
      "706:\tlearn: 0.0094454\ttotal: 1.7s\tremaining: 705ms\n",
      "707:\tlearn: 0.0094251\ttotal: 1.7s\tremaining: 703ms\n",
      "708:\tlearn: 0.0094054\ttotal: 1.71s\tremaining: 700ms\n",
      "709:\tlearn: 0.0093810\ttotal: 1.71s\tremaining: 698ms\n",
      "710:\tlearn: 0.0093682\ttotal: 1.71s\tremaining: 696ms\n",
      "711:\tlearn: 0.0093471\ttotal: 1.71s\tremaining: 693ms\n",
      "712:\tlearn: 0.0093231\ttotal: 1.72s\tremaining: 691ms\n",
      "713:\tlearn: 0.0092998\ttotal: 1.72s\tremaining: 689ms\n",
      "714:\tlearn: 0.0092800\ttotal: 1.72s\tremaining: 687ms\n",
      "715:\tlearn: 0.0092547\ttotal: 1.73s\tremaining: 684ms\n",
      "716:\tlearn: 0.0092351\ttotal: 1.73s\tremaining: 682ms\n",
      "717:\tlearn: 0.0092155\ttotal: 1.73s\tremaining: 680ms\n",
      "718:\tlearn: 0.0091990\ttotal: 1.73s\tremaining: 678ms\n",
      "719:\tlearn: 0.0091716\ttotal: 1.74s\tremaining: 675ms\n",
      "720:\tlearn: 0.0091561\ttotal: 1.74s\tremaining: 673ms\n",
      "721:\tlearn: 0.0091353\ttotal: 1.74s\tremaining: 671ms\n",
      "722:\tlearn: 0.0091186\ttotal: 1.75s\tremaining: 669ms\n",
      "723:\tlearn: 0.0091023\ttotal: 1.75s\tremaining: 666ms\n",
      "724:\tlearn: 0.0090763\ttotal: 1.75s\tremaining: 664ms\n",
      "725:\tlearn: 0.0090542\ttotal: 1.75s\tremaining: 661ms\n",
      "726:\tlearn: 0.0090287\ttotal: 1.75s\tremaining: 659ms\n",
      "727:\tlearn: 0.0090100\ttotal: 1.76s\tremaining: 656ms\n",
      "728:\tlearn: 0.0089805\ttotal: 1.76s\tremaining: 654ms\n",
      "729:\tlearn: 0.0089653\ttotal: 1.76s\tremaining: 652ms\n",
      "730:\tlearn: 0.0089474\ttotal: 1.76s\tremaining: 649ms\n",
      "731:\tlearn: 0.0089255\ttotal: 1.77s\tremaining: 647ms\n",
      "732:\tlearn: 0.0088966\ttotal: 1.77s\tremaining: 644ms\n",
      "733:\tlearn: 0.0088830\ttotal: 1.77s\tremaining: 642ms\n",
      "734:\tlearn: 0.0088680\ttotal: 1.77s\tremaining: 639ms\n",
      "735:\tlearn: 0.0088519\ttotal: 1.78s\tremaining: 637ms\n",
      "736:\tlearn: 0.0088271\ttotal: 1.78s\tremaining: 635ms\n",
      "737:\tlearn: 0.0088063\ttotal: 1.78s\tremaining: 633ms\n",
      "738:\tlearn: 0.0087888\ttotal: 1.78s\tremaining: 630ms\n",
      "739:\tlearn: 0.0087744\ttotal: 1.79s\tremaining: 628ms\n",
      "740:\tlearn: 0.0087560\ttotal: 1.79s\tremaining: 625ms\n",
      "741:\tlearn: 0.0087469\ttotal: 1.79s\tremaining: 623ms\n",
      "742:\tlearn: 0.0087296\ttotal: 1.79s\tremaining: 621ms\n",
      "743:\tlearn: 0.0087123\ttotal: 1.8s\tremaining: 618ms\n",
      "744:\tlearn: 0.0087016\ttotal: 1.8s\tremaining: 616ms\n",
      "745:\tlearn: 0.0086771\ttotal: 1.8s\tremaining: 614ms\n",
      "746:\tlearn: 0.0086525\ttotal: 1.8s\tremaining: 611ms\n",
      "747:\tlearn: 0.0086351\ttotal: 1.81s\tremaining: 609ms\n",
      "748:\tlearn: 0.0086241\ttotal: 1.81s\tremaining: 607ms\n",
      "749:\tlearn: 0.0086069\ttotal: 1.81s\tremaining: 604ms\n",
      "750:\tlearn: 0.0085869\ttotal: 1.81s\tremaining: 602ms\n",
      "751:\tlearn: 0.0085603\ttotal: 1.82s\tremaining: 599ms\n",
      "752:\tlearn: 0.0085455\ttotal: 1.82s\tremaining: 597ms\n",
      "753:\tlearn: 0.0085239\ttotal: 1.82s\tremaining: 595ms\n",
      "754:\tlearn: 0.0085015\ttotal: 1.82s\tremaining: 592ms\n",
      "755:\tlearn: 0.0084828\ttotal: 1.83s\tremaining: 590ms\n",
      "756:\tlearn: 0.0084685\ttotal: 1.83s\tremaining: 587ms\n",
      "757:\tlearn: 0.0084527\ttotal: 1.83s\tremaining: 585ms\n",
      "758:\tlearn: 0.0084332\ttotal: 1.83s\tremaining: 583ms\n",
      "759:\tlearn: 0.0084176\ttotal: 1.84s\tremaining: 581ms\n",
      "760:\tlearn: 0.0083990\ttotal: 1.84s\tremaining: 578ms\n",
      "761:\tlearn: 0.0083823\ttotal: 1.84s\tremaining: 576ms\n",
      "762:\tlearn: 0.0083644\ttotal: 1.85s\tremaining: 574ms\n",
      "763:\tlearn: 0.0083421\ttotal: 1.85s\tremaining: 571ms\n",
      "764:\tlearn: 0.0083269\ttotal: 1.85s\tremaining: 569ms\n",
      "765:\tlearn: 0.0083088\ttotal: 1.85s\tremaining: 566ms\n",
      "766:\tlearn: 0.0082863\ttotal: 1.86s\tremaining: 564ms\n",
      "767:\tlearn: 0.0082632\ttotal: 1.86s\tremaining: 562ms\n"
     ]
    },
    {
     "name": "stdout",
     "output_type": "stream",
     "text": [
      "768:\tlearn: 0.0082437\ttotal: 1.86s\tremaining: 559ms\n",
      "769:\tlearn: 0.0082299\ttotal: 1.86s\tremaining: 557ms\n",
      "770:\tlearn: 0.0082180\ttotal: 1.87s\tremaining: 555ms\n",
      "771:\tlearn: 0.0082044\ttotal: 1.87s\tremaining: 552ms\n",
      "772:\tlearn: 0.0081882\ttotal: 1.87s\tremaining: 550ms\n",
      "773:\tlearn: 0.0081737\ttotal: 1.88s\tremaining: 548ms\n",
      "774:\tlearn: 0.0081559\ttotal: 1.88s\tremaining: 545ms\n",
      "775:\tlearn: 0.0081354\ttotal: 1.88s\tremaining: 543ms\n",
      "776:\tlearn: 0.0081057\ttotal: 1.88s\tremaining: 540ms\n",
      "777:\tlearn: 0.0080910\ttotal: 1.88s\tremaining: 538ms\n",
      "778:\tlearn: 0.0080753\ttotal: 1.89s\tremaining: 535ms\n",
      "779:\tlearn: 0.0080609\ttotal: 1.89s\tremaining: 533ms\n",
      "780:\tlearn: 0.0080346\ttotal: 1.89s\tremaining: 530ms\n",
      "781:\tlearn: 0.0080199\ttotal: 1.89s\tremaining: 528ms\n",
      "782:\tlearn: 0.0080026\ttotal: 1.9s\tremaining: 525ms\n",
      "783:\tlearn: 0.0079892\ttotal: 1.9s\tremaining: 523ms\n",
      "784:\tlearn: 0.0079708\ttotal: 1.9s\tremaining: 520ms\n",
      "785:\tlearn: 0.0079577\ttotal: 1.9s\tremaining: 518ms\n",
      "786:\tlearn: 0.0079386\ttotal: 1.9s\tremaining: 515ms\n",
      "787:\tlearn: 0.0079224\ttotal: 1.91s\tremaining: 513ms\n",
      "788:\tlearn: 0.0079017\ttotal: 1.91s\tremaining: 510ms\n",
      "789:\tlearn: 0.0078878\ttotal: 1.91s\tremaining: 507ms\n",
      "790:\tlearn: 0.0078707\ttotal: 1.91s\tremaining: 505ms\n",
      "791:\tlearn: 0.0078583\ttotal: 1.91s\tremaining: 502ms\n",
      "792:\tlearn: 0.0078396\ttotal: 1.91s\tremaining: 500ms\n",
      "793:\tlearn: 0.0078241\ttotal: 1.92s\tremaining: 497ms\n",
      "794:\tlearn: 0.0078116\ttotal: 1.92s\tremaining: 495ms\n",
      "795:\tlearn: 0.0077921\ttotal: 1.92s\tremaining: 492ms\n",
      "796:\tlearn: 0.0077758\ttotal: 1.92s\tremaining: 490ms\n",
      "797:\tlearn: 0.0077498\ttotal: 1.93s\tremaining: 487ms\n",
      "798:\tlearn: 0.0077379\ttotal: 1.93s\tremaining: 485ms\n",
      "799:\tlearn: 0.0077132\ttotal: 1.93s\tremaining: 482ms\n",
      "800:\tlearn: 0.0076968\ttotal: 1.93s\tremaining: 480ms\n",
      "801:\tlearn: 0.0076828\ttotal: 1.93s\tremaining: 477ms\n",
      "802:\tlearn: 0.0076635\ttotal: 1.94s\tremaining: 475ms\n",
      "803:\tlearn: 0.0076507\ttotal: 1.94s\tremaining: 473ms\n",
      "804:\tlearn: 0.0076403\ttotal: 1.94s\tremaining: 470ms\n",
      "805:\tlearn: 0.0076238\ttotal: 1.94s\tremaining: 468ms\n",
      "806:\tlearn: 0.0076078\ttotal: 1.95s\tremaining: 466ms\n",
      "807:\tlearn: 0.0075933\ttotal: 1.95s\tremaining: 463ms\n",
      "808:\tlearn: 0.0075773\ttotal: 1.95s\tremaining: 461ms\n",
      "809:\tlearn: 0.0075612\ttotal: 1.95s\tremaining: 458ms\n",
      "810:\tlearn: 0.0075517\ttotal: 1.96s\tremaining: 456ms\n",
      "811:\tlearn: 0.0075370\ttotal: 1.96s\tremaining: 453ms\n",
      "812:\tlearn: 0.0075204\ttotal: 1.96s\tremaining: 451ms\n",
      "813:\tlearn: 0.0075058\ttotal: 1.96s\tremaining: 448ms\n",
      "814:\tlearn: 0.0074954\ttotal: 1.96s\tremaining: 446ms\n",
      "815:\tlearn: 0.0074840\ttotal: 1.96s\tremaining: 443ms\n",
      "816:\tlearn: 0.0074721\ttotal: 1.97s\tremaining: 441ms\n",
      "817:\tlearn: 0.0074602\ttotal: 1.97s\tremaining: 438ms\n",
      "818:\tlearn: 0.0074457\ttotal: 1.97s\tremaining: 436ms\n",
      "819:\tlearn: 0.0074296\ttotal: 1.97s\tremaining: 433ms\n",
      "820:\tlearn: 0.0074127\ttotal: 1.97s\tremaining: 430ms\n",
      "821:\tlearn: 0.0073834\ttotal: 1.98s\tremaining: 428ms\n",
      "822:\tlearn: 0.0073715\ttotal: 1.98s\tremaining: 425ms\n",
      "823:\tlearn: 0.0073617\ttotal: 1.98s\tremaining: 423ms\n",
      "824:\tlearn: 0.0073417\ttotal: 1.98s\tremaining: 420ms\n",
      "825:\tlearn: 0.0073269\ttotal: 1.98s\tremaining: 417ms\n",
      "826:\tlearn: 0.0073139\ttotal: 1.98s\tremaining: 415ms\n",
      "827:\tlearn: 0.0073032\ttotal: 1.98s\tremaining: 412ms\n",
      "828:\tlearn: 0.0072865\ttotal: 1.99s\tremaining: 410ms\n",
      "829:\tlearn: 0.0072701\ttotal: 1.99s\tremaining: 407ms\n",
      "830:\tlearn: 0.0072528\ttotal: 1.99s\tremaining: 405ms\n",
      "831:\tlearn: 0.0072300\ttotal: 1.99s\tremaining: 402ms\n",
      "832:\tlearn: 0.0072176\ttotal: 1.99s\tremaining: 399ms\n",
      "833:\tlearn: 0.0072016\ttotal: 1.99s\tremaining: 397ms\n",
      "834:\tlearn: 0.0071924\ttotal: 2s\tremaining: 394ms\n",
      "835:\tlearn: 0.0071757\ttotal: 2s\tremaining: 392ms\n",
      "836:\tlearn: 0.0071623\ttotal: 2s\tremaining: 389ms\n",
      "837:\tlearn: 0.0071530\ttotal: 2s\tremaining: 387ms\n",
      "838:\tlearn: 0.0071437\ttotal: 2s\tremaining: 384ms\n",
      "839:\tlearn: 0.0071311\ttotal: 2s\tremaining: 382ms\n",
      "840:\tlearn: 0.0071090\ttotal: 2.01s\tremaining: 379ms\n",
      "841:\tlearn: 0.0070957\ttotal: 2.01s\tremaining: 377ms\n",
      "842:\tlearn: 0.0070866\ttotal: 2.01s\tremaining: 374ms\n",
      "843:\tlearn: 0.0070692\ttotal: 2.01s\tremaining: 372ms\n",
      "844:\tlearn: 0.0070532\ttotal: 2.02s\tremaining: 370ms\n",
      "845:\tlearn: 0.0070427\ttotal: 2.02s\tremaining: 368ms\n",
      "846:\tlearn: 0.0070277\ttotal: 2.02s\tremaining: 365ms\n",
      "847:\tlearn: 0.0070144\ttotal: 2.02s\tremaining: 363ms\n",
      "848:\tlearn: 0.0069998\ttotal: 2.03s\tremaining: 361ms\n",
      "849:\tlearn: 0.0069882\ttotal: 2.03s\tremaining: 358ms\n",
      "850:\tlearn: 0.0069783\ttotal: 2.03s\tremaining: 356ms\n",
      "851:\tlearn: 0.0069694\ttotal: 2.04s\tremaining: 354ms\n",
      "852:\tlearn: 0.0069581\ttotal: 2.04s\tremaining: 351ms\n",
      "853:\tlearn: 0.0069473\ttotal: 2.04s\tremaining: 349ms\n",
      "854:\tlearn: 0.0069345\ttotal: 2.04s\tremaining: 346ms\n",
      "855:\tlearn: 0.0069253\ttotal: 2.04s\tremaining: 344ms\n",
      "856:\tlearn: 0.0069179\ttotal: 2.05s\tremaining: 341ms\n",
      "857:\tlearn: 0.0069031\ttotal: 2.05s\tremaining: 339ms\n",
      "858:\tlearn: 0.0068921\ttotal: 2.05s\tremaining: 337ms\n",
      "859:\tlearn: 0.0068783\ttotal: 2.05s\tremaining: 334ms\n",
      "860:\tlearn: 0.0068642\ttotal: 2.06s\tremaining: 332ms\n",
      "861:\tlearn: 0.0068462\ttotal: 2.06s\tremaining: 329ms\n",
      "862:\tlearn: 0.0068349\ttotal: 2.06s\tremaining: 327ms\n",
      "863:\tlearn: 0.0068193\ttotal: 2.06s\tremaining: 325ms\n",
      "864:\tlearn: 0.0068064\ttotal: 2.06s\tremaining: 322ms\n",
      "865:\tlearn: 0.0067912\ttotal: 2.07s\tremaining: 320ms\n",
      "866:\tlearn: 0.0067770\ttotal: 2.07s\tremaining: 318ms\n",
      "867:\tlearn: 0.0067577\ttotal: 2.07s\tremaining: 315ms\n",
      "868:\tlearn: 0.0067431\ttotal: 2.08s\tremaining: 313ms\n",
      "869:\tlearn: 0.0067333\ttotal: 2.08s\tremaining: 311ms\n",
      "870:\tlearn: 0.0067178\ttotal: 2.08s\tremaining: 308ms\n",
      "871:\tlearn: 0.0067032\ttotal: 2.08s\tremaining: 306ms\n",
      "872:\tlearn: 0.0066907\ttotal: 2.09s\tremaining: 304ms\n",
      "873:\tlearn: 0.0066691\ttotal: 2.09s\tremaining: 301ms\n",
      "874:\tlearn: 0.0066547\ttotal: 2.09s\tremaining: 299ms\n",
      "875:\tlearn: 0.0066384\ttotal: 2.09s\tremaining: 296ms\n",
      "876:\tlearn: 0.0066294\ttotal: 2.1s\tremaining: 294ms\n",
      "877:\tlearn: 0.0066181\ttotal: 2.1s\tremaining: 292ms\n",
      "878:\tlearn: 0.0066080\ttotal: 2.1s\tremaining: 289ms\n",
      "879:\tlearn: 0.0065961\ttotal: 2.1s\tremaining: 287ms\n",
      "880:\tlearn: 0.0065814\ttotal: 2.11s\tremaining: 285ms\n",
      "881:\tlearn: 0.0065747\ttotal: 2.11s\tremaining: 282ms\n",
      "882:\tlearn: 0.0065648\ttotal: 2.11s\tremaining: 280ms\n",
      "883:\tlearn: 0.0065490\ttotal: 2.11s\tremaining: 277ms\n",
      "884:\tlearn: 0.0065390\ttotal: 2.12s\tremaining: 275ms\n",
      "885:\tlearn: 0.0065283\ttotal: 2.12s\tremaining: 273ms\n",
      "886:\tlearn: 0.0065179\ttotal: 2.12s\tremaining: 270ms\n",
      "887:\tlearn: 0.0065066\ttotal: 2.12s\tremaining: 268ms\n",
      "888:\tlearn: 0.0064959\ttotal: 2.13s\tremaining: 265ms\n",
      "889:\tlearn: 0.0064776\ttotal: 2.13s\tremaining: 263ms\n",
      "890:\tlearn: 0.0064642\ttotal: 2.13s\tremaining: 261ms\n",
      "891:\tlearn: 0.0064533\ttotal: 2.13s\tremaining: 259ms\n",
      "892:\tlearn: 0.0064365\ttotal: 2.14s\tremaining: 256ms\n",
      "893:\tlearn: 0.0064280\ttotal: 2.14s\tremaining: 254ms\n",
      "894:\tlearn: 0.0064142\ttotal: 2.14s\tremaining: 251ms\n",
      "895:\tlearn: 0.0064023\ttotal: 2.14s\tremaining: 249ms\n",
      "896:\tlearn: 0.0063931\ttotal: 2.15s\tremaining: 247ms\n",
      "897:\tlearn: 0.0063816\ttotal: 2.15s\tremaining: 244ms\n",
      "898:\tlearn: 0.0063722\ttotal: 2.15s\tremaining: 242ms\n",
      "899:\tlearn: 0.0063579\ttotal: 2.15s\tremaining: 239ms\n",
      "900:\tlearn: 0.0063471\ttotal: 2.15s\tremaining: 237ms\n",
      "901:\tlearn: 0.0063315\ttotal: 2.16s\tremaining: 234ms\n",
      "902:\tlearn: 0.0063197\ttotal: 2.16s\tremaining: 232ms\n",
      "903:\tlearn: 0.0063062\ttotal: 2.16s\tremaining: 230ms\n",
      "904:\tlearn: 0.0062981\ttotal: 2.16s\tremaining: 227ms\n",
      "905:\tlearn: 0.0062841\ttotal: 2.17s\tremaining: 225ms\n",
      "906:\tlearn: 0.0062721\ttotal: 2.17s\tremaining: 222ms\n",
      "907:\tlearn: 0.0062633\ttotal: 2.17s\tremaining: 220ms\n",
      "908:\tlearn: 0.0062503\ttotal: 2.17s\tremaining: 218ms\n",
      "909:\tlearn: 0.0062412\ttotal: 2.18s\tremaining: 215ms\n",
      "910:\tlearn: 0.0062333\ttotal: 2.18s\tremaining: 213ms\n",
      "911:\tlearn: 0.0062217\ttotal: 2.18s\tremaining: 211ms\n",
      "912:\tlearn: 0.0062146\ttotal: 2.18s\tremaining: 208ms\n",
      "913:\tlearn: 0.0062042\ttotal: 2.19s\tremaining: 206ms\n",
      "914:\tlearn: 0.0061931\ttotal: 2.19s\tremaining: 203ms\n",
      "915:\tlearn: 0.0061838\ttotal: 2.19s\tremaining: 201ms\n",
      "916:\tlearn: 0.0061748\ttotal: 2.19s\tremaining: 198ms\n",
      "917:\tlearn: 0.0061679\ttotal: 2.19s\tremaining: 196ms\n",
      "918:\tlearn: 0.0061605\ttotal: 2.19s\tremaining: 193ms\n",
      "919:\tlearn: 0.0061448\ttotal: 2.2s\tremaining: 191ms\n",
      "920:\tlearn: 0.0061336\ttotal: 2.2s\tremaining: 189ms\n",
      "921:\tlearn: 0.0061188\ttotal: 2.2s\tremaining: 186ms\n",
      "922:\tlearn: 0.0061068\ttotal: 2.2s\tremaining: 184ms\n",
      "923:\tlearn: 0.0060989\ttotal: 2.2s\tremaining: 181ms\n",
      "924:\tlearn: 0.0060870\ttotal: 2.2s\tremaining: 179ms\n",
      "925:\tlearn: 0.0060765\ttotal: 2.21s\tremaining: 176ms\n",
      "926:\tlearn: 0.0060539\ttotal: 2.21s\tremaining: 174ms\n",
      "927:\tlearn: 0.0060416\ttotal: 2.21s\tremaining: 171ms\n",
      "928:\tlearn: 0.0060350\ttotal: 2.21s\tremaining: 169ms\n",
      "929:\tlearn: 0.0060241\ttotal: 2.21s\tremaining: 167ms\n",
      "930:\tlearn: 0.0060147\ttotal: 2.21s\tremaining: 164ms\n",
      "931:\tlearn: 0.0060010\ttotal: 2.22s\tremaining: 162ms\n",
      "932:\tlearn: 0.0059930\ttotal: 2.22s\tremaining: 159ms\n",
      "933:\tlearn: 0.0059806\ttotal: 2.22s\tremaining: 157ms\n",
      "934:\tlearn: 0.0059710\ttotal: 2.22s\tremaining: 155ms\n",
      "935:\tlearn: 0.0059568\ttotal: 2.23s\tremaining: 152ms\n",
      "936:\tlearn: 0.0059477\ttotal: 2.23s\tremaining: 150ms\n",
      "937:\tlearn: 0.0059409\ttotal: 2.23s\tremaining: 147ms\n",
      "938:\tlearn: 0.0059290\ttotal: 2.23s\tremaining: 145ms\n",
      "939:\tlearn: 0.0059100\ttotal: 2.23s\tremaining: 143ms\n",
      "940:\tlearn: 0.0059005\ttotal: 2.23s\tremaining: 140ms\n",
      "941:\tlearn: 0.0058878\ttotal: 2.24s\tremaining: 138ms\n",
      "942:\tlearn: 0.0058780\ttotal: 2.24s\tremaining: 135ms\n",
      "943:\tlearn: 0.0058658\ttotal: 2.24s\tremaining: 133ms\n",
      "944:\tlearn: 0.0058585\ttotal: 2.25s\tremaining: 131ms\n",
      "945:\tlearn: 0.0058536\ttotal: 2.25s\tremaining: 128ms\n",
      "946:\tlearn: 0.0058435\ttotal: 2.25s\tremaining: 126ms\n",
      "947:\tlearn: 0.0058357\ttotal: 2.25s\tremaining: 124ms\n",
      "948:\tlearn: 0.0058226\ttotal: 2.25s\tremaining: 121ms\n",
      "949:\tlearn: 0.0058105\ttotal: 2.26s\tremaining: 119ms\n",
      "950:\tlearn: 0.0058015\ttotal: 2.26s\tremaining: 116ms\n",
      "951:\tlearn: 0.0057936\ttotal: 2.26s\tremaining: 114ms\n",
      "952:\tlearn: 0.0057835\ttotal: 2.27s\tremaining: 112ms\n",
      "953:\tlearn: 0.0057752\ttotal: 2.27s\tremaining: 109ms\n",
      "954:\tlearn: 0.0057661\ttotal: 2.27s\tremaining: 107ms\n",
      "955:\tlearn: 0.0057527\ttotal: 2.27s\tremaining: 105ms\n",
      "956:\tlearn: 0.0057420\ttotal: 2.27s\tremaining: 102ms\n",
      "957:\tlearn: 0.0057332\ttotal: 2.28s\tremaining: 99.9ms\n",
      "958:\tlearn: 0.0057250\ttotal: 2.28s\tremaining: 97.5ms\n",
      "959:\tlearn: 0.0057147\ttotal: 2.28s\tremaining: 95.1ms\n",
      "960:\tlearn: 0.0057062\ttotal: 2.29s\tremaining: 92.7ms\n",
      "961:\tlearn: 0.0056985\ttotal: 2.29s\tremaining: 90.4ms\n",
      "962:\tlearn: 0.0056898\ttotal: 2.29s\tremaining: 88ms\n",
      "963:\tlearn: 0.0056844\ttotal: 2.29s\tremaining: 85.6ms\n",
      "964:\tlearn: 0.0056772\ttotal: 2.29s\tremaining: 83.2ms\n",
      "965:\tlearn: 0.0056682\ttotal: 2.3s\tremaining: 80.8ms\n",
      "966:\tlearn: 0.0056568\ttotal: 2.3s\tremaining: 78.4ms\n",
      "967:\tlearn: 0.0056442\ttotal: 2.3s\tremaining: 76ms\n",
      "968:\tlearn: 0.0056316\ttotal: 2.3s\tremaining: 73.7ms\n",
      "969:\tlearn: 0.0056259\ttotal: 2.3s\tremaining: 71.3ms\n",
      "970:\tlearn: 0.0056154\ttotal: 2.31s\tremaining: 68.9ms\n",
      "971:\tlearn: 0.0056048\ttotal: 2.31s\tremaining: 66.5ms\n",
      "972:\tlearn: 0.0055933\ttotal: 2.31s\tremaining: 64.1ms\n",
      "973:\tlearn: 0.0055810\ttotal: 2.31s\tremaining: 61.8ms\n",
      "974:\tlearn: 0.0055755\ttotal: 2.32s\tremaining: 59.4ms\n",
      "975:\tlearn: 0.0055652\ttotal: 2.32s\tremaining: 57ms\n",
      "976:\tlearn: 0.0055577\ttotal: 2.32s\tremaining: 54.6ms\n",
      "977:\tlearn: 0.0055496\ttotal: 2.32s\tremaining: 52.3ms\n"
     ]
    },
    {
     "name": "stdout",
     "output_type": "stream",
     "text": [
      "978:\tlearn: 0.0055345\ttotal: 2.33s\tremaining: 49.9ms\n",
      "979:\tlearn: 0.0055282\ttotal: 2.33s\tremaining: 47.5ms\n",
      "980:\tlearn: 0.0055225\ttotal: 2.33s\tremaining: 45.1ms\n",
      "981:\tlearn: 0.0055154\ttotal: 2.33s\tremaining: 42.8ms\n",
      "982:\tlearn: 0.0055087\ttotal: 2.33s\tremaining: 40.4ms\n",
      "983:\tlearn: 0.0055038\ttotal: 2.34s\tremaining: 38ms\n",
      "984:\tlearn: 0.0054953\ttotal: 2.34s\tremaining: 35.6ms\n",
      "985:\tlearn: 0.0054876\ttotal: 2.34s\tremaining: 33.3ms\n",
      "986:\tlearn: 0.0054753\ttotal: 2.35s\tremaining: 30.9ms\n",
      "987:\tlearn: 0.0054695\ttotal: 2.35s\tremaining: 28.5ms\n",
      "988:\tlearn: 0.0054560\ttotal: 2.35s\tremaining: 26.2ms\n",
      "989:\tlearn: 0.0054451\ttotal: 2.35s\tremaining: 23.8ms\n",
      "990:\tlearn: 0.0054377\ttotal: 2.36s\tremaining: 21.4ms\n",
      "991:\tlearn: 0.0054286\ttotal: 2.36s\tremaining: 19ms\n",
      "992:\tlearn: 0.0054207\ttotal: 2.36s\tremaining: 16.6ms\n",
      "993:\tlearn: 0.0054118\ttotal: 2.36s\tremaining: 14.3ms\n",
      "994:\tlearn: 0.0054043\ttotal: 2.37s\tremaining: 11.9ms\n",
      "995:\tlearn: 0.0053944\ttotal: 2.37s\tremaining: 9.51ms\n",
      "996:\tlearn: 0.0053870\ttotal: 2.37s\tremaining: 7.13ms\n",
      "997:\tlearn: 0.0053770\ttotal: 2.37s\tremaining: 4.75ms\n",
      "998:\tlearn: 0.0053700\ttotal: 2.37s\tremaining: 2.38ms\n",
      "999:\tlearn: 0.0053630\ttotal: 2.38s\tremaining: 0us\n"
     ]
    },
    {
     "data": {
      "text/plain": [
       "<catboost.core.CatBoostClassifier at 0x28f939b7ac8>"
      ]
     },
     "execution_count": 74,
     "metadata": {},
     "output_type": "execute_result"
    }
   ],
   "source": [
    "from catboost import CatBoostClassifier\n",
    "cat = CatBoostClassifier()\n",
    "cat.fit(xc_train,y_train)"
   ]
  },
  {
   "cell_type": "code",
   "execution_count": 75,
   "metadata": {},
   "outputs": [],
   "source": [
    "cat_pred = cat.predict(xc_test)"
   ]
  },
  {
   "cell_type": "code",
   "execution_count": 76,
   "metadata": {},
   "outputs": [
    {
     "name": "stdout",
     "output_type": "stream",
     "text": [
      "[[36  0]\n",
      " [ 0 25]]\n"
     ]
    },
    {
     "data": {
      "text/plain": [
       "1.0"
      ]
     },
     "execution_count": 76,
     "metadata": {},
     "output_type": "execute_result"
    }
   ],
   "source": [
    "from sklearn.metrics import confusion_matrix , accuracy_score\n",
    "cm = confusion_matrix(y_test,cat_pred)\n",
    "print(cm)\n",
    "accuracy_score(y_test,cat_pred)"
   ]
  },
  {
   "cell_type": "code",
   "execution_count": 83,
   "metadata": {},
   "outputs": [
    {
     "name": "stdout",
     "output_type": "stream",
     "text": [
      "Accuracy : 98.37%\n"
     ]
    }
   ],
   "source": [
    "from sklearn.model_selection import cross_val_score\n",
    "accuracies = cross_val_score(estimator = tree,X = xc_train , y = y_train , cv = 10)\n",
    "DT = accuracies.mean()*100\n",
    "print('Accuracy : {:0.2f}%'.format(accuracies.mean()*100))"
   ]
  },
  {
   "cell_type": "code",
   "execution_count": 84,
   "metadata": {},
   "outputs": [
    {
     "data": {
      "text/plain": [
       "98.36666666666666"
      ]
     },
     "execution_count": 84,
     "metadata": {},
     "output_type": "execute_result"
    }
   ],
   "source": [
    "DT"
   ]
  },
  {
   "cell_type": "code",
   "execution_count": 110,
   "metadata": {},
   "outputs": [
    {
     "name": "stdout",
     "output_type": "stream",
     "text": [
      "Accuracy : 92.13%\n"
     ]
    }
   ],
   "source": [
    "from sklearn.model_selection import cross_val_score\n",
    "acc = cross_val_score(estimator = svm,X = xc_train , y = y_train , cv = 10)\n",
    "sv = acc.mean()*100\n",
    "print('Accuracy : {:0.2f}%'.format(acc.mean()*100))"
   ]
  },
  {
   "cell_type": "code",
   "execution_count": 111,
   "metadata": {},
   "outputs": [
    {
     "name": "stdout",
     "output_type": "stream",
     "text": [
      "Accuracy : 81.38%\n"
     ]
    }
   ],
   "source": [
    "from sklearn.model_selection import cross_val_score\n",
    "ac = cross_val_score(estimator = cl,X = xc_train , y = y_train , cv = 10)\n",
    "KNN = ac.mean()*100\n",
    "print('Accuracy : {:0.2f}%'.format(ac.mean()*100))"
   ]
  },
  {
   "cell_type": "code",
   "execution_count": 112,
   "metadata": {},
   "outputs": [
    {
     "name": "stdout",
     "output_type": "stream",
     "text": [
      "Accuracy : 97.95%\n"
     ]
    }
   ],
   "source": [
    "from sklearn.model_selection import cross_val_score\n",
    "a = cross_val_score(estimator = boost,X = xc_train , y = y_train , cv = 10)\n",
    "XG = a.mean()*100\n",
    "print('Accuracy : {:0.2f}%'.format(a.mean()*100))"
   ]
  },
  {
   "cell_type": "code",
   "execution_count": 91,
   "metadata": {},
   "outputs": [],
   "source": [
    "d = DataFrame(i)"
   ]
  },
  {
   "cell_type": "code",
   "execution_count": 98,
   "metadata": {},
   "outputs": [],
   "source": [
    "d = DataFrame({'Model':['svm','DecisionTree','KNN','XGBoost'],'accuracies':[sv,DT,KNN,XG]})"
   ]
  },
  {
   "cell_type": "code",
   "execution_count": 99,
   "metadata": {},
   "outputs": [
    {
     "data": {
      "text/html": [
       "<div>\n",
       "<style scoped>\n",
       "    .dataframe tbody tr th:only-of-type {\n",
       "        vertical-align: middle;\n",
       "    }\n",
       "\n",
       "    .dataframe tbody tr th {\n",
       "        vertical-align: top;\n",
       "    }\n",
       "\n",
       "    .dataframe thead th {\n",
       "        text-align: right;\n",
       "    }\n",
       "</style>\n",
       "<table border=\"1\" class=\"dataframe\">\n",
       "  <thead>\n",
       "    <tr style=\"text-align: right;\">\n",
       "      <th></th>\n",
       "      <th>Model</th>\n",
       "      <th>accuracies</th>\n",
       "    </tr>\n",
       "  </thead>\n",
       "  <tbody>\n",
       "    <tr>\n",
       "      <th>0</th>\n",
       "      <td>svm</td>\n",
       "      <td>92.133333</td>\n",
       "    </tr>\n",
       "    <tr>\n",
       "      <th>1</th>\n",
       "      <td>DecisionTree</td>\n",
       "      <td>98.366667</td>\n",
       "    </tr>\n",
       "    <tr>\n",
       "      <th>2</th>\n",
       "      <td>KNN</td>\n",
       "      <td>81.383333</td>\n",
       "    </tr>\n",
       "    <tr>\n",
       "      <th>3</th>\n",
       "      <td>XGBoost</td>\n",
       "      <td>97.950000</td>\n",
       "    </tr>\n",
       "  </tbody>\n",
       "</table>\n",
       "</div>"
      ],
      "text/plain": [
       "          Model  accuracies\n",
       "0           svm   92.133333\n",
       "1  DecisionTree   98.366667\n",
       "2           KNN   81.383333\n",
       "3       XGBoost   97.950000"
      ]
     },
     "execution_count": 99,
     "metadata": {},
     "output_type": "execute_result"
    }
   ],
   "source": [
    "d"
   ]
  },
  {
   "cell_type": "code",
   "execution_count": 109,
   "metadata": {},
   "outputs": [
    {
     "data": {
      "application/vnd.plotly.v1+json": {
       "config": {
        "linkText": "Export to plot.ly",
        "plotlyServerURL": "https://plot.ly",
        "showLink": true
       },
       "data": [
        {
         "marker": {
          "color": "rgba(219, 64, 82, 0.6)",
          "line": {
           "color": "rgba(219, 64, 82, 1.0)",
           "width": 1
          }
         },
         "name": "accuracies",
         "orientation": "v",
         "text": "",
         "type": "bar",
         "x": [
          "svm",
          "DecisionTree",
          "KNN",
          "XGBoost"
         ],
         "y": [
          92.13333333333334,
          98.36666666666666,
          81.38333333333333,
          97.95
         ]
        }
       ],
       "layout": {
        "legend": {
         "bgcolor": "#F5F6F9",
         "font": {
          "color": "#4D5663"
         }
        },
        "paper_bgcolor": "#F5F6F9",
        "plot_bgcolor": "#F5F6F9",
        "template": {
         "data": {
          "bar": [
           {
            "error_x": {
             "color": "#2a3f5f"
            },
            "error_y": {
             "color": "#2a3f5f"
            },
            "marker": {
             "line": {
              "color": "#E5ECF6",
              "width": 0.5
             }
            },
            "type": "bar"
           }
          ],
          "barpolar": [
           {
            "marker": {
             "line": {
              "color": "#E5ECF6",
              "width": 0.5
             }
            },
            "type": "barpolar"
           }
          ],
          "carpet": [
           {
            "aaxis": {
             "endlinecolor": "#2a3f5f",
             "gridcolor": "white",
             "linecolor": "white",
             "minorgridcolor": "white",
             "startlinecolor": "#2a3f5f"
            },
            "baxis": {
             "endlinecolor": "#2a3f5f",
             "gridcolor": "white",
             "linecolor": "white",
             "minorgridcolor": "white",
             "startlinecolor": "#2a3f5f"
            },
            "type": "carpet"
           }
          ],
          "choropleth": [
           {
            "colorbar": {
             "outlinewidth": 0,
             "ticks": ""
            },
            "type": "choropleth"
           }
          ],
          "contour": [
           {
            "colorbar": {
             "outlinewidth": 0,
             "ticks": ""
            },
            "colorscale": [
             [
              0,
              "#0d0887"
             ],
             [
              0.1111111111111111,
              "#46039f"
             ],
             [
              0.2222222222222222,
              "#7201a8"
             ],
             [
              0.3333333333333333,
              "#9c179e"
             ],
             [
              0.4444444444444444,
              "#bd3786"
             ],
             [
              0.5555555555555556,
              "#d8576b"
             ],
             [
              0.6666666666666666,
              "#ed7953"
             ],
             [
              0.7777777777777778,
              "#fb9f3a"
             ],
             [
              0.8888888888888888,
              "#fdca26"
             ],
             [
              1,
              "#f0f921"
             ]
            ],
            "type": "contour"
           }
          ],
          "contourcarpet": [
           {
            "colorbar": {
             "outlinewidth": 0,
             "ticks": ""
            },
            "type": "contourcarpet"
           }
          ],
          "heatmap": [
           {
            "colorbar": {
             "outlinewidth": 0,
             "ticks": ""
            },
            "colorscale": [
             [
              0,
              "#0d0887"
             ],
             [
              0.1111111111111111,
              "#46039f"
             ],
             [
              0.2222222222222222,
              "#7201a8"
             ],
             [
              0.3333333333333333,
              "#9c179e"
             ],
             [
              0.4444444444444444,
              "#bd3786"
             ],
             [
              0.5555555555555556,
              "#d8576b"
             ],
             [
              0.6666666666666666,
              "#ed7953"
             ],
             [
              0.7777777777777778,
              "#fb9f3a"
             ],
             [
              0.8888888888888888,
              "#fdca26"
             ],
             [
              1,
              "#f0f921"
             ]
            ],
            "type": "heatmap"
           }
          ],
          "heatmapgl": [
           {
            "colorbar": {
             "outlinewidth": 0,
             "ticks": ""
            },
            "colorscale": [
             [
              0,
              "#0d0887"
             ],
             [
              0.1111111111111111,
              "#46039f"
             ],
             [
              0.2222222222222222,
              "#7201a8"
             ],
             [
              0.3333333333333333,
              "#9c179e"
             ],
             [
              0.4444444444444444,
              "#bd3786"
             ],
             [
              0.5555555555555556,
              "#d8576b"
             ],
             [
              0.6666666666666666,
              "#ed7953"
             ],
             [
              0.7777777777777778,
              "#fb9f3a"
             ],
             [
              0.8888888888888888,
              "#fdca26"
             ],
             [
              1,
              "#f0f921"
             ]
            ],
            "type": "heatmapgl"
           }
          ],
          "histogram": [
           {
            "marker": {
             "colorbar": {
              "outlinewidth": 0,
              "ticks": ""
             }
            },
            "type": "histogram"
           }
          ],
          "histogram2d": [
           {
            "colorbar": {
             "outlinewidth": 0,
             "ticks": ""
            },
            "colorscale": [
             [
              0,
              "#0d0887"
             ],
             [
              0.1111111111111111,
              "#46039f"
             ],
             [
              0.2222222222222222,
              "#7201a8"
             ],
             [
              0.3333333333333333,
              "#9c179e"
             ],
             [
              0.4444444444444444,
              "#bd3786"
             ],
             [
              0.5555555555555556,
              "#d8576b"
             ],
             [
              0.6666666666666666,
              "#ed7953"
             ],
             [
              0.7777777777777778,
              "#fb9f3a"
             ],
             [
              0.8888888888888888,
              "#fdca26"
             ],
             [
              1,
              "#f0f921"
             ]
            ],
            "type": "histogram2d"
           }
          ],
          "histogram2dcontour": [
           {
            "colorbar": {
             "outlinewidth": 0,
             "ticks": ""
            },
            "colorscale": [
             [
              0,
              "#0d0887"
             ],
             [
              0.1111111111111111,
              "#46039f"
             ],
             [
              0.2222222222222222,
              "#7201a8"
             ],
             [
              0.3333333333333333,
              "#9c179e"
             ],
             [
              0.4444444444444444,
              "#bd3786"
             ],
             [
              0.5555555555555556,
              "#d8576b"
             ],
             [
              0.6666666666666666,
              "#ed7953"
             ],
             [
              0.7777777777777778,
              "#fb9f3a"
             ],
             [
              0.8888888888888888,
              "#fdca26"
             ],
             [
              1,
              "#f0f921"
             ]
            ],
            "type": "histogram2dcontour"
           }
          ],
          "mesh3d": [
           {
            "colorbar": {
             "outlinewidth": 0,
             "ticks": ""
            },
            "type": "mesh3d"
           }
          ],
          "parcoords": [
           {
            "line": {
             "colorbar": {
              "outlinewidth": 0,
              "ticks": ""
             }
            },
            "type": "parcoords"
           }
          ],
          "pie": [
           {
            "automargin": true,
            "type": "pie"
           }
          ],
          "scatter": [
           {
            "marker": {
             "colorbar": {
              "outlinewidth": 0,
              "ticks": ""
             }
            },
            "type": "scatter"
           }
          ],
          "scatter3d": [
           {
            "line": {
             "colorbar": {
              "outlinewidth": 0,
              "ticks": ""
             }
            },
            "marker": {
             "colorbar": {
              "outlinewidth": 0,
              "ticks": ""
             }
            },
            "type": "scatter3d"
           }
          ],
          "scattercarpet": [
           {
            "marker": {
             "colorbar": {
              "outlinewidth": 0,
              "ticks": ""
             }
            },
            "type": "scattercarpet"
           }
          ],
          "scattergeo": [
           {
            "marker": {
             "colorbar": {
              "outlinewidth": 0,
              "ticks": ""
             }
            },
            "type": "scattergeo"
           }
          ],
          "scattergl": [
           {
            "marker": {
             "colorbar": {
              "outlinewidth": 0,
              "ticks": ""
             }
            },
            "type": "scattergl"
           }
          ],
          "scattermapbox": [
           {
            "marker": {
             "colorbar": {
              "outlinewidth": 0,
              "ticks": ""
             }
            },
            "type": "scattermapbox"
           }
          ],
          "scatterpolar": [
           {
            "marker": {
             "colorbar": {
              "outlinewidth": 0,
              "ticks": ""
             }
            },
            "type": "scatterpolar"
           }
          ],
          "scatterpolargl": [
           {
            "marker": {
             "colorbar": {
              "outlinewidth": 0,
              "ticks": ""
             }
            },
            "type": "scatterpolargl"
           }
          ],
          "scatterternary": [
           {
            "marker": {
             "colorbar": {
              "outlinewidth": 0,
              "ticks": ""
             }
            },
            "type": "scatterternary"
           }
          ],
          "surface": [
           {
            "colorbar": {
             "outlinewidth": 0,
             "ticks": ""
            },
            "colorscale": [
             [
              0,
              "#0d0887"
             ],
             [
              0.1111111111111111,
              "#46039f"
             ],
             [
              0.2222222222222222,
              "#7201a8"
             ],
             [
              0.3333333333333333,
              "#9c179e"
             ],
             [
              0.4444444444444444,
              "#bd3786"
             ],
             [
              0.5555555555555556,
              "#d8576b"
             ],
             [
              0.6666666666666666,
              "#ed7953"
             ],
             [
              0.7777777777777778,
              "#fb9f3a"
             ],
             [
              0.8888888888888888,
              "#fdca26"
             ],
             [
              1,
              "#f0f921"
             ]
            ],
            "type": "surface"
           }
          ],
          "table": [
           {
            "cells": {
             "fill": {
              "color": "#EBF0F8"
             },
             "line": {
              "color": "white"
             }
            },
            "header": {
             "fill": {
              "color": "#C8D4E3"
             },
             "line": {
              "color": "white"
             }
            },
            "type": "table"
           }
          ]
         },
         "layout": {
          "annotationdefaults": {
           "arrowcolor": "#2a3f5f",
           "arrowhead": 0,
           "arrowwidth": 1
          },
          "coloraxis": {
           "colorbar": {
            "outlinewidth": 0,
            "ticks": ""
           }
          },
          "colorscale": {
           "diverging": [
            [
             0,
             "#8e0152"
            ],
            [
             0.1,
             "#c51b7d"
            ],
            [
             0.2,
             "#de77ae"
            ],
            [
             0.3,
             "#f1b6da"
            ],
            [
             0.4,
             "#fde0ef"
            ],
            [
             0.5,
             "#f7f7f7"
            ],
            [
             0.6,
             "#e6f5d0"
            ],
            [
             0.7,
             "#b8e186"
            ],
            [
             0.8,
             "#7fbc41"
            ],
            [
             0.9,
             "#4d9221"
            ],
            [
             1,
             "#276419"
            ]
           ],
           "sequential": [
            [
             0,
             "#0d0887"
            ],
            [
             0.1111111111111111,
             "#46039f"
            ],
            [
             0.2222222222222222,
             "#7201a8"
            ],
            [
             0.3333333333333333,
             "#9c179e"
            ],
            [
             0.4444444444444444,
             "#bd3786"
            ],
            [
             0.5555555555555556,
             "#d8576b"
            ],
            [
             0.6666666666666666,
             "#ed7953"
            ],
            [
             0.7777777777777778,
             "#fb9f3a"
            ],
            [
             0.8888888888888888,
             "#fdca26"
            ],
            [
             1,
             "#f0f921"
            ]
           ],
           "sequentialminus": [
            [
             0,
             "#0d0887"
            ],
            [
             0.1111111111111111,
             "#46039f"
            ],
            [
             0.2222222222222222,
             "#7201a8"
            ],
            [
             0.3333333333333333,
             "#9c179e"
            ],
            [
             0.4444444444444444,
             "#bd3786"
            ],
            [
             0.5555555555555556,
             "#d8576b"
            ],
            [
             0.6666666666666666,
             "#ed7953"
            ],
            [
             0.7777777777777778,
             "#fb9f3a"
            ],
            [
             0.8888888888888888,
             "#fdca26"
            ],
            [
             1,
             "#f0f921"
            ]
           ]
          },
          "colorway": [
           "#636efa",
           "#EF553B",
           "#00cc96",
           "#ab63fa",
           "#FFA15A",
           "#19d3f3",
           "#FF6692",
           "#B6E880",
           "#FF97FF",
           "#FECB52"
          ],
          "font": {
           "color": "#2a3f5f"
          },
          "geo": {
           "bgcolor": "white",
           "lakecolor": "white",
           "landcolor": "#E5ECF6",
           "showlakes": true,
           "showland": true,
           "subunitcolor": "white"
          },
          "hoverlabel": {
           "align": "left"
          },
          "hovermode": "closest",
          "mapbox": {
           "style": "light"
          },
          "paper_bgcolor": "white",
          "plot_bgcolor": "#E5ECF6",
          "polar": {
           "angularaxis": {
            "gridcolor": "white",
            "linecolor": "white",
            "ticks": ""
           },
           "bgcolor": "#E5ECF6",
           "radialaxis": {
            "gridcolor": "white",
            "linecolor": "white",
            "ticks": ""
           }
          },
          "scene": {
           "xaxis": {
            "backgroundcolor": "#E5ECF6",
            "gridcolor": "white",
            "gridwidth": 2,
            "linecolor": "white",
            "showbackground": true,
            "ticks": "",
            "zerolinecolor": "white"
           },
           "yaxis": {
            "backgroundcolor": "#E5ECF6",
            "gridcolor": "white",
            "gridwidth": 2,
            "linecolor": "white",
            "showbackground": true,
            "ticks": "",
            "zerolinecolor": "white"
           },
           "zaxis": {
            "backgroundcolor": "#E5ECF6",
            "gridcolor": "white",
            "gridwidth": 2,
            "linecolor": "white",
            "showbackground": true,
            "ticks": "",
            "zerolinecolor": "white"
           }
          },
          "shapedefaults": {
           "line": {
            "color": "#2a3f5f"
           }
          },
          "ternary": {
           "aaxis": {
            "gridcolor": "white",
            "linecolor": "white",
            "ticks": ""
           },
           "baxis": {
            "gridcolor": "white",
            "linecolor": "white",
            "ticks": ""
           },
           "bgcolor": "#E5ECF6",
           "caxis": {
            "gridcolor": "white",
            "linecolor": "white",
            "ticks": ""
           }
          },
          "title": {
           "x": 0.05
          },
          "xaxis": {
           "automargin": true,
           "gridcolor": "white",
           "linecolor": "white",
           "ticks": "",
           "title": {
            "standoff": 15
           },
           "zerolinecolor": "white",
           "zerolinewidth": 2
          },
          "yaxis": {
           "automargin": true,
           "gridcolor": "white",
           "linecolor": "white",
           "ticks": "",
           "title": {
            "standoff": 15
           },
           "zerolinecolor": "white",
           "zerolinewidth": 2
          }
         }
        },
        "title": {
         "font": {
          "color": "#4D5663"
         },
         "text": "Model Results and Comparision"
        },
        "xaxis": {
         "gridcolor": "#E1E5ED",
         "showgrid": true,
         "tickfont": {
          "color": "#4D5663"
         },
         "title": {
          "font": {
           "color": "#4D5663"
          },
          "text": "Model"
         },
         "zerolinecolor": "#E1E5ED"
        },
        "yaxis": {
         "gridcolor": "#E1E5ED",
         "showgrid": true,
         "tickfont": {
          "color": "#4D5663"
         },
         "title": {
          "font": {
           "color": "#4D5663"
          },
          "text": " Accuracy"
         },
         "zerolinecolor": "#E1E5ED"
        }
       }
      },
      "text/html": [
       "<div>\n",
       "        \n",
       "        \n",
       "            <div id=\"ac809fd5-71f3-4bec-bf59-1eaa304e93a7\" class=\"plotly-graph-div\" style=\"height:525px; width:100%;\"></div>\n",
       "            <script type=\"text/javascript\">\n",
       "                require([\"plotly\"], function(Plotly) {\n",
       "                    window.PLOTLYENV=window.PLOTLYENV || {};\n",
       "                    window.PLOTLYENV.BASE_URL='https://plot.ly';\n",
       "                    \n",
       "                if (document.getElementById(\"ac809fd5-71f3-4bec-bf59-1eaa304e93a7\")) {\n",
       "                    Plotly.newPlot(\n",
       "                        'ac809fd5-71f3-4bec-bf59-1eaa304e93a7',\n",
       "                        [{\"marker\": {\"color\": \"rgba(219, 64, 82, 0.6)\", \"line\": {\"color\": \"rgba(219, 64, 82, 1.0)\", \"width\": 1}}, \"name\": \"accuracies\", \"orientation\": \"v\", \"text\": \"\", \"type\": \"bar\", \"x\": [\"svm\", \"DecisionTree\", \"KNN\", \"XGBoost\"], \"y\": [92.13333333333334, 98.36666666666666, 81.38333333333333, 97.95]}],\n",
       "                        {\"legend\": {\"bgcolor\": \"#F5F6F9\", \"font\": {\"color\": \"#4D5663\"}}, \"paper_bgcolor\": \"#F5F6F9\", \"plot_bgcolor\": \"#F5F6F9\", \"template\": {\"data\": {\"bar\": [{\"error_x\": {\"color\": \"#2a3f5f\"}, \"error_y\": {\"color\": \"#2a3f5f\"}, \"marker\": {\"line\": {\"color\": \"#E5ECF6\", \"width\": 0.5}}, \"type\": \"bar\"}], \"barpolar\": [{\"marker\": {\"line\": {\"color\": \"#E5ECF6\", \"width\": 0.5}}, \"type\": \"barpolar\"}], \"carpet\": [{\"aaxis\": {\"endlinecolor\": \"#2a3f5f\", \"gridcolor\": \"white\", \"linecolor\": \"white\", \"minorgridcolor\": \"white\", \"startlinecolor\": \"#2a3f5f\"}, \"baxis\": {\"endlinecolor\": \"#2a3f5f\", \"gridcolor\": \"white\", \"linecolor\": \"white\", \"minorgridcolor\": \"white\", \"startlinecolor\": \"#2a3f5f\"}, \"type\": \"carpet\"}], \"choropleth\": [{\"colorbar\": {\"outlinewidth\": 0, \"ticks\": \"\"}, \"type\": \"choropleth\"}], \"contour\": [{\"colorbar\": {\"outlinewidth\": 0, \"ticks\": \"\"}, \"colorscale\": [[0.0, \"#0d0887\"], [0.1111111111111111, \"#46039f\"], [0.2222222222222222, \"#7201a8\"], [0.3333333333333333, \"#9c179e\"], [0.4444444444444444, \"#bd3786\"], [0.5555555555555556, \"#d8576b\"], [0.6666666666666666, \"#ed7953\"], [0.7777777777777778, \"#fb9f3a\"], [0.8888888888888888, \"#fdca26\"], [1.0, \"#f0f921\"]], \"type\": \"contour\"}], \"contourcarpet\": [{\"colorbar\": {\"outlinewidth\": 0, \"ticks\": \"\"}, \"type\": \"contourcarpet\"}], \"heatmap\": [{\"colorbar\": {\"outlinewidth\": 0, \"ticks\": \"\"}, \"colorscale\": [[0.0, \"#0d0887\"], [0.1111111111111111, \"#46039f\"], [0.2222222222222222, \"#7201a8\"], [0.3333333333333333, \"#9c179e\"], [0.4444444444444444, \"#bd3786\"], [0.5555555555555556, \"#d8576b\"], [0.6666666666666666, \"#ed7953\"], [0.7777777777777778, \"#fb9f3a\"], [0.8888888888888888, \"#fdca26\"], [1.0, \"#f0f921\"]], \"type\": \"heatmap\"}], \"heatmapgl\": [{\"colorbar\": {\"outlinewidth\": 0, \"ticks\": \"\"}, \"colorscale\": [[0.0, \"#0d0887\"], [0.1111111111111111, \"#46039f\"], [0.2222222222222222, \"#7201a8\"], [0.3333333333333333, \"#9c179e\"], [0.4444444444444444, \"#bd3786\"], [0.5555555555555556, \"#d8576b\"], [0.6666666666666666, \"#ed7953\"], [0.7777777777777778, \"#fb9f3a\"], [0.8888888888888888, \"#fdca26\"], [1.0, \"#f0f921\"]], \"type\": \"heatmapgl\"}], \"histogram\": [{\"marker\": {\"colorbar\": {\"outlinewidth\": 0, \"ticks\": \"\"}}, \"type\": \"histogram\"}], \"histogram2d\": [{\"colorbar\": {\"outlinewidth\": 0, \"ticks\": \"\"}, \"colorscale\": [[0.0, \"#0d0887\"], [0.1111111111111111, \"#46039f\"], [0.2222222222222222, \"#7201a8\"], [0.3333333333333333, \"#9c179e\"], [0.4444444444444444, \"#bd3786\"], [0.5555555555555556, \"#d8576b\"], [0.6666666666666666, \"#ed7953\"], [0.7777777777777778, \"#fb9f3a\"], [0.8888888888888888, \"#fdca26\"], [1.0, \"#f0f921\"]], \"type\": \"histogram2d\"}], \"histogram2dcontour\": [{\"colorbar\": {\"outlinewidth\": 0, \"ticks\": \"\"}, \"colorscale\": [[0.0, \"#0d0887\"], [0.1111111111111111, \"#46039f\"], [0.2222222222222222, \"#7201a8\"], [0.3333333333333333, \"#9c179e\"], [0.4444444444444444, \"#bd3786\"], [0.5555555555555556, \"#d8576b\"], [0.6666666666666666, \"#ed7953\"], [0.7777777777777778, \"#fb9f3a\"], [0.8888888888888888, \"#fdca26\"], [1.0, \"#f0f921\"]], \"type\": \"histogram2dcontour\"}], \"mesh3d\": [{\"colorbar\": {\"outlinewidth\": 0, \"ticks\": \"\"}, \"type\": \"mesh3d\"}], \"parcoords\": [{\"line\": {\"colorbar\": {\"outlinewidth\": 0, \"ticks\": \"\"}}, \"type\": \"parcoords\"}], \"pie\": [{\"automargin\": true, \"type\": \"pie\"}], \"scatter\": [{\"marker\": {\"colorbar\": {\"outlinewidth\": 0, \"ticks\": \"\"}}, \"type\": \"scatter\"}], \"scatter3d\": [{\"line\": {\"colorbar\": {\"outlinewidth\": 0, \"ticks\": \"\"}}, \"marker\": {\"colorbar\": {\"outlinewidth\": 0, \"ticks\": \"\"}}, \"type\": \"scatter3d\"}], \"scattercarpet\": [{\"marker\": {\"colorbar\": {\"outlinewidth\": 0, \"ticks\": \"\"}}, \"type\": \"scattercarpet\"}], \"scattergeo\": [{\"marker\": {\"colorbar\": {\"outlinewidth\": 0, \"ticks\": \"\"}}, \"type\": \"scattergeo\"}], \"scattergl\": [{\"marker\": {\"colorbar\": {\"outlinewidth\": 0, \"ticks\": \"\"}}, \"type\": \"scattergl\"}], \"scattermapbox\": [{\"marker\": {\"colorbar\": {\"outlinewidth\": 0, \"ticks\": \"\"}}, \"type\": \"scattermapbox\"}], \"scatterpolar\": [{\"marker\": {\"colorbar\": {\"outlinewidth\": 0, \"ticks\": \"\"}}, \"type\": \"scatterpolar\"}], \"scatterpolargl\": [{\"marker\": {\"colorbar\": {\"outlinewidth\": 0, \"ticks\": \"\"}}, \"type\": \"scatterpolargl\"}], \"scatterternary\": [{\"marker\": {\"colorbar\": {\"outlinewidth\": 0, \"ticks\": \"\"}}, \"type\": \"scatterternary\"}], \"surface\": [{\"colorbar\": {\"outlinewidth\": 0, \"ticks\": \"\"}, \"colorscale\": [[0.0, \"#0d0887\"], [0.1111111111111111, \"#46039f\"], [0.2222222222222222, \"#7201a8\"], [0.3333333333333333, \"#9c179e\"], [0.4444444444444444, \"#bd3786\"], [0.5555555555555556, \"#d8576b\"], [0.6666666666666666, \"#ed7953\"], [0.7777777777777778, \"#fb9f3a\"], [0.8888888888888888, \"#fdca26\"], [1.0, \"#f0f921\"]], \"type\": \"surface\"}], \"table\": [{\"cells\": {\"fill\": {\"color\": \"#EBF0F8\"}, \"line\": {\"color\": \"white\"}}, \"header\": {\"fill\": {\"color\": \"#C8D4E3\"}, \"line\": {\"color\": \"white\"}}, \"type\": \"table\"}]}, \"layout\": {\"annotationdefaults\": {\"arrowcolor\": \"#2a3f5f\", \"arrowhead\": 0, \"arrowwidth\": 1}, \"coloraxis\": {\"colorbar\": {\"outlinewidth\": 0, \"ticks\": \"\"}}, \"colorscale\": {\"diverging\": [[0, \"#8e0152\"], [0.1, \"#c51b7d\"], [0.2, \"#de77ae\"], [0.3, \"#f1b6da\"], [0.4, \"#fde0ef\"], [0.5, \"#f7f7f7\"], [0.6, \"#e6f5d0\"], [0.7, \"#b8e186\"], [0.8, \"#7fbc41\"], [0.9, \"#4d9221\"], [1, \"#276419\"]], \"sequential\": [[0.0, \"#0d0887\"], [0.1111111111111111, \"#46039f\"], [0.2222222222222222, \"#7201a8\"], [0.3333333333333333, \"#9c179e\"], [0.4444444444444444, \"#bd3786\"], [0.5555555555555556, \"#d8576b\"], [0.6666666666666666, \"#ed7953\"], [0.7777777777777778, \"#fb9f3a\"], [0.8888888888888888, \"#fdca26\"], [1.0, \"#f0f921\"]], \"sequentialminus\": [[0.0, \"#0d0887\"], [0.1111111111111111, \"#46039f\"], [0.2222222222222222, \"#7201a8\"], [0.3333333333333333, \"#9c179e\"], [0.4444444444444444, \"#bd3786\"], [0.5555555555555556, \"#d8576b\"], [0.6666666666666666, \"#ed7953\"], [0.7777777777777778, \"#fb9f3a\"], [0.8888888888888888, \"#fdca26\"], [1.0, \"#f0f921\"]]}, \"colorway\": [\"#636efa\", \"#EF553B\", \"#00cc96\", \"#ab63fa\", \"#FFA15A\", \"#19d3f3\", \"#FF6692\", \"#B6E880\", \"#FF97FF\", \"#FECB52\"], \"font\": {\"color\": \"#2a3f5f\"}, \"geo\": {\"bgcolor\": \"white\", \"lakecolor\": \"white\", \"landcolor\": \"#E5ECF6\", \"showlakes\": true, \"showland\": true, \"subunitcolor\": \"white\"}, \"hoverlabel\": {\"align\": \"left\"}, \"hovermode\": \"closest\", \"mapbox\": {\"style\": \"light\"}, \"paper_bgcolor\": \"white\", \"plot_bgcolor\": \"#E5ECF6\", \"polar\": {\"angularaxis\": {\"gridcolor\": \"white\", \"linecolor\": \"white\", \"ticks\": \"\"}, \"bgcolor\": \"#E5ECF6\", \"radialaxis\": {\"gridcolor\": \"white\", \"linecolor\": \"white\", \"ticks\": \"\"}}, \"scene\": {\"xaxis\": {\"backgroundcolor\": \"#E5ECF6\", \"gridcolor\": \"white\", \"gridwidth\": 2, \"linecolor\": \"white\", \"showbackground\": true, \"ticks\": \"\", \"zerolinecolor\": \"white\"}, \"yaxis\": {\"backgroundcolor\": \"#E5ECF6\", \"gridcolor\": \"white\", \"gridwidth\": 2, \"linecolor\": \"white\", \"showbackground\": true, \"ticks\": \"\", \"zerolinecolor\": \"white\"}, \"zaxis\": {\"backgroundcolor\": \"#E5ECF6\", \"gridcolor\": \"white\", \"gridwidth\": 2, \"linecolor\": \"white\", \"showbackground\": true, \"ticks\": \"\", \"zerolinecolor\": \"white\"}}, \"shapedefaults\": {\"line\": {\"color\": \"#2a3f5f\"}}, \"ternary\": {\"aaxis\": {\"gridcolor\": \"white\", \"linecolor\": \"white\", \"ticks\": \"\"}, \"baxis\": {\"gridcolor\": \"white\", \"linecolor\": \"white\", \"ticks\": \"\"}, \"bgcolor\": \"#E5ECF6\", \"caxis\": {\"gridcolor\": \"white\", \"linecolor\": \"white\", \"ticks\": \"\"}}, \"title\": {\"x\": 0.05}, \"xaxis\": {\"automargin\": true, \"gridcolor\": \"white\", \"linecolor\": \"white\", \"ticks\": \"\", \"title\": {\"standoff\": 15}, \"zerolinecolor\": \"white\", \"zerolinewidth\": 2}, \"yaxis\": {\"automargin\": true, \"gridcolor\": \"white\", \"linecolor\": \"white\", \"ticks\": \"\", \"title\": {\"standoff\": 15}, \"zerolinecolor\": \"white\", \"zerolinewidth\": 2}}}, \"title\": {\"font\": {\"color\": \"#4D5663\"}, \"text\": \"Model Results and Comparision\"}, \"xaxis\": {\"gridcolor\": \"#E1E5ED\", \"showgrid\": true, \"tickfont\": {\"color\": \"#4D5663\"}, \"title\": {\"font\": {\"color\": \"#4D5663\"}, \"text\": \"Model\"}, \"zerolinecolor\": \"#E1E5ED\"}, \"yaxis\": {\"gridcolor\": \"#E1E5ED\", \"showgrid\": true, \"tickfont\": {\"color\": \"#4D5663\"}, \"title\": {\"font\": {\"color\": \"#4D5663\"}, \"text\": \" Accuracy\"}, \"zerolinecolor\": \"#E1E5ED\"}},\n",
       "                        {\"showLink\": true, \"linkText\": \"Export to plot.ly\", \"plotlyServerURL\": \"https://plot.ly\", \"responsive\": true}\n",
       "                    ).then(function(){\n",
       "                            \n",
       "var gd = document.getElementById('ac809fd5-71f3-4bec-bf59-1eaa304e93a7');\n",
       "var x = new MutationObserver(function (mutations, observer) {{\n",
       "        var display = window.getComputedStyle(gd).display;\n",
       "        if (!display || display === 'none') {{\n",
       "            console.log([gd, 'removed!']);\n",
       "            Plotly.purge(gd);\n",
       "            observer.disconnect();\n",
       "        }}\n",
       "}});\n",
       "\n",
       "// Listen for the removal of the full notebook cells\n",
       "var notebookContainer = gd.closest('#notebook-container');\n",
       "if (notebookContainer) {{\n",
       "    x.observe(notebookContainer, {childList: true});\n",
       "}}\n",
       "\n",
       "// Listen for the clearing of the current output cell\n",
       "var outputEl = gd.closest('.output');\n",
       "if (outputEl) {{\n",
       "    x.observe(outputEl, {childList: true});\n",
       "}}\n",
       "\n",
       "                        })\n",
       "                };\n",
       "                });\n",
       "            </script>\n",
       "        </div>"
      ]
     },
     "metadata": {},
     "output_type": "display_data"
    }
   ],
   "source": [
    "d.iplot(kind = 'bar',x = 'Model',y = 'accuracies',title = 'Model Results and Comparision',xTitle = 'Model',yTitle = ' Accuracy',colors =('red','green','yellow','blue') )\n",
    "\n"
   ]
  },
  {
   "cell_type": "code",
   "execution_count": null,
   "metadata": {},
   "outputs": [],
   "source": []
  }
 ],
 "metadata": {
  "kernelspec": {
   "display_name": "Python 3",
   "language": "python",
   "name": "python3"
  },
  "language_info": {
   "codemirror_mode": {
    "name": "ipython",
    "version": 3
   },
   "file_extension": ".py",
   "mimetype": "text/x-python",
   "name": "python",
   "nbconvert_exporter": "python",
   "pygments_lexer": "ipython3",
   "version": "3.7.6"
  }
 },
 "nbformat": 4,
 "nbformat_minor": 4
}
